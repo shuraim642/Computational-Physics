{
 "cells": [
  {
   "cell_type": "markdown",
   "id": "5f282f74",
   "metadata": {},
   "source": [
    "### Lecture No. 2: Intro to Python"
   ]
  },
  {
   "cell_type": "code",
   "execution_count": null,
   "id": "baa74471",
   "metadata": {},
   "outputs": [],
   "source": [
    "password = \"PakistanPP\"\n",
    "p = input('Please Enter your password: ')\n",
    "i = 1\n",
    "while p!=password:\n",
    "    i+=1\n",
    "    if i<=3:\n",
    "        p = input('Please enter your password again: ')\n",
    "    else:\n",
    "        break\n",
    "\n",
    "if i>3:\n",
    "    print(\"You have wrongly put your password\", i-1, \"times\")\n",
    "else:\n",
    "    print(\"ThankYou, You can have your transactions\")"
   ]
  },
  {
   "cell_type": "code",
   "execution_count": null,
   "id": "911d8308",
   "metadata": {},
   "outputs": [],
   "source": [
    "temp = float(input('Please enter the temperature reading: '))\n",
    "if temp<0:\n",
    "    print('Water is ice/freezing phase')\n",
    "elif temp>=0 and temp<=100:\n",
    "    print('Water is in liquid phase')\n",
    "else:\n",
    "    print('Water is in steam phase')"
   ]
  },
  {
   "cell_type": "code",
   "execution_count": null,
   "id": "bdcbea19",
   "metadata": {},
   "outputs": [],
   "source": [
    "from numpy import zeros\n",
    "n = int(input('How many student you have? '))\n",
    "gpa = zeros(n, float)\n",
    "i = 0\n",
    "while i<n:\n",
    "    gpa[i] = float(input(\"Please enter the GPA of your student: \"))\n",
    "    i+=1\n",
    "avg_gpa = sum(gpa)/len(gpa)    \n",
    "print(\"The average of GPA's of given students is: \", avg_gpa)"
   ]
  },
  {
   "cell_type": "markdown",
   "id": "39ec0911",
   "metadata": {},
   "source": [
    "### Lecture No. 3: Intro to Python"
   ]
  },
  {
   "cell_type": "code",
   "execution_count": null,
   "id": "0784609c",
   "metadata": {},
   "outputs": [],
   "source": [
    "import numpy as np\n",
    "from math import exp, log, cos, sin, pi"
   ]
  },
  {
   "cell_type": "code",
   "execution_count": null,
   "id": "32fa57a2",
   "metadata": {},
   "outputs": [],
   "source": [
    "a = np.loadtxt('a_file.txt')\n",
    "exp_mean = exp(sum(a)/len(a))\n",
    "print('Exponential of Mean of given numbers in the list is: ', exp_mean)"
   ]
  },
  {
   "cell_type": "code",
   "execution_count": null,
   "id": "41dfb10a",
   "metadata": {},
   "outputs": [],
   "source": [
    "def tables(n):\n",
    "    for i in range(1,11):\n",
    "        print(n, 'x', i, '=', n*i)\n",
    "        \n",
    "tables(float(input('Please put the number for which you want table: ')))"
   ]
  },
  {
   "cell_type": "code",
   "execution_count": null,
   "id": "7b48ade4",
   "metadata": {},
   "outputs": [],
   "source": [
    "def factorial(m):\n",
    "    x=1\n",
    "    for i in range(1,m):\n",
    "        x = x*m\n",
    "        m-=1\n",
    "    return x\n",
    "y = factorial(int(input('Give the number for which a factorial is needed:')))\n",
    "print('Factorial of given number is: ',y)"
   ]
  },
  {
   "cell_type": "code",
   "execution_count": null,
   "id": "2cc6eafa",
   "metadata": {},
   "outputs": [],
   "source": [
    "def polar2cart(r, theta):\n",
    "    theta_rad = theta*pi/180\n",
    "    x = r*cos(theta_rad)\n",
    "    y = r*sin(theta_rad)\n",
    "    return x, y\n",
    "r_val= float(input('Please enter the value of r: '))\n",
    "theta_val_deg= float(input('Please enter the value of theta in deg: '))\n",
    "print('The value of x and y coordiantes are respectively: ', polar2cart(r_val, theta_val_deg))"
   ]
  },
  {
   "cell_type": "markdown",
   "id": "8036b8a5",
   "metadata": {},
   "source": [
    "### Lecture No. 4: Intro to Matplotlib"
   ]
  },
  {
   "cell_type": "code",
   "execution_count": null,
   "id": "ea054019",
   "metadata": {},
   "outputs": [],
   "source": [
    "import matplotlib.pyplot as plt\n",
    "%matplotlib inline\n",
    "import numpy as np"
   ]
  },
  {
   "cell_type": "code",
   "execution_count": null,
   "id": "980365ce",
   "metadata": {},
   "outputs": [],
   "source": [
    "x = np.arange(0, 20, 0.1)\n",
    "y1 = np.cos(x)\n",
    "y2 = np.exp(-x/10)*np.cos(x)\n",
    "plt.plot(x, y1, label = 'Oscillation-1', linewidth = 3)\n",
    "plt.plot(x, y2, label = 'Oscillation-2', linewidth = 3, color = 'r', linestyle = '--')\n",
    "plt.xlabel('x-values', size = 20)\n",
    "plt.ylabel('y-values', size = 20)\n",
    "plt.legend()\n",
    "plt.show()"
   ]
  },
  {
   "cell_type": "code",
   "execution_count": null,
   "id": "4835e698",
   "metadata": {},
   "outputs": [],
   "source": [
    "x = np.arange(0, 20, 0.1)\n",
    "y = (10**x)*(np.cos(x)**2)\n",
    "plt.plot(x,y)\n",
    "plt.xscale('log')\n",
    "plt.yscale('log')\n",
    "plt.show"
   ]
  },
  {
   "cell_type": "raw",
   "id": "390ce0f0",
   "metadata": {},
   "source": [
    "a = np.loadtxt('Any2DFileRequired')\n",
    "x = a[:0]\n",
    "y = a[:1]\n",
    "print('')"
   ]
  },
  {
   "cell_type": "code",
   "execution_count": null,
   "id": "44be9171",
   "metadata": {},
   "outputs": [],
   "source": [
    "theta = np.linspace(0, 2*np.pi)\n",
    "x = np.cos(theta - np.pi/2)\n",
    "y = np.sin(theta - np.pi/2)\n",
    "z = theta\n",
    "\n",
    "fig, ax = plt.subplots(subplot_kw=dict(projection='3d'))\n",
    "ax.stem(x, y, z)\n",
    "\n",
    "plt.show()"
   ]
  },
  {
   "cell_type": "markdown",
   "id": "33af398d",
   "metadata": {},
   "source": [
    "### SymPy Tutorials:::"
   ]
  },
  {
   "cell_type": "code",
   "execution_count": null,
   "id": "d2dd7d20",
   "metadata": {},
   "outputs": [],
   "source": [
    "from sympy import *"
   ]
  },
  {
   "cell_type": "code",
   "execution_count": null,
   "id": "c7268905",
   "metadata": {},
   "outputs": [],
   "source": [
    "x, y = symbols('x y')\n",
    "expr = x**2+2*y+3"
   ]
  },
  {
   "cell_type": "code",
   "execution_count": null,
   "id": "387e00db",
   "metadata": {},
   "outputs": [],
   "source": [
    "expr"
   ]
  },
  {
   "cell_type": "code",
   "execution_count": null,
   "id": "bcb7c60e",
   "metadata": {},
   "outputs": [],
   "source": [
    "exprr= exp(x)\n",
    "exprr"
   ]
  },
  {
   "cell_type": "code",
   "execution_count": null,
   "id": "dd2578e5",
   "metadata": {},
   "outputs": [],
   "source": [
    "\"Add(pow(2), exp(3))\""
   ]
  },
  {
   "cell_type": "code",
   "execution_count": null,
   "id": "56256448",
   "metadata": {},
   "outputs": [],
   "source": [
    "srepr(x - y)\n",
    "\"Add(Symbol('x'), Mul(Integer(-1), Symbol('y')))\""
   ]
  },
  {
   "cell_type": "code",
   "execution_count": null,
   "id": "fba19995",
   "metadata": {},
   "outputs": [],
   "source": [
    "x, y, z = symbols('x y z')\n",
    "expr = x**2 + x*y\n",
    "srepr(expr)"
   ]
  },
  {
   "cell_type": "code",
   "execution_count": null,
   "id": "5641171d",
   "metadata": {},
   "outputs": [],
   "source": [
    "express = x**2+2*x+33\n",
    "print('The value of expression is: ', express.subs(x, 1))\n",
    "express"
   ]
  },
  {
   "cell_type": "code",
   "execution_count": null,
   "id": "848e11f6",
   "metadata": {},
   "outputs": [],
   "source": [
    "expr = sin(2*x)+cos(2*x)\n",
    "expand_trig(expr)"
   ]
  },
  {
   "cell_type": "code",
   "execution_count": null,
   "id": "343bbf98",
   "metadata": {},
   "outputs": [],
   "source": [
    "x, m, n = symbols('x m n')\n",
    "exp = x**2+2*m+3*m*n\n",
    "exp.subs([(x, 2),(m, -1), (n, 1)])"
   ]
  },
  {
   "cell_type": "raw",
   "id": "13de9e4d",
   "metadata": {},
   "source": [
    "Calculus:"
   ]
  },
  {
   "cell_type": "code",
   "execution_count": null,
   "id": "2fa961ef",
   "metadata": {},
   "outputs": [],
   "source": [
    "from sympy import *\n",
    "import math as mth"
   ]
  },
  {
   "cell_type": "code",
   "execution_count": null,
   "id": "debf2739",
   "metadata": {},
   "outputs": [],
   "source": [
    "x, y, z = symbols('x y z')\n",
    "# sm.init_printing(use_unicode=True)"
   ]
  },
  {
   "cell_type": "code",
   "execution_count": null,
   "id": "38bf80f7",
   "metadata": {},
   "outputs": [],
   "source": [
    "exp = cos(x)\n",
    "der = Derivative(exp, x)\n",
    "der.doit()"
   ]
  },
  {
   "cell_type": "code",
   "execution_count": null,
   "id": "895adde7",
   "metadata": {},
   "outputs": [],
   "source": [
    "exp1 = 2*x**3+3*y**2+z**4\n",
    "der1 = Derivative(exp1, x, x, y, y, y, z, z, z) #Derivative(exp1, x, 2, y, 3, z, 3)\n",
    "der1"
   ]
  },
  {
   "cell_type": "code",
   "execution_count": null,
   "id": "adb417fa",
   "metadata": {},
   "outputs": [],
   "source": [
    "exp2 = x**2*y**3**2+2*x**2*z**2*y**4\n",
    "der2 = Derivative(exp2, x, 2, y, z, 2)\n",
    "der2"
   ]
  },
  {
   "cell_type": "code",
   "execution_count": null,
   "id": "d3d81bd6",
   "metadata": {},
   "outputs": [],
   "source": [
    "der2.doit()"
   ]
  },
  {
   "cell_type": "raw",
   "id": "9eba717b",
   "metadata": {},
   "source": [
    "Integrals:"
   ]
  },
  {
   "cell_type": "code",
   "execution_count": null,
   "id": "baa22d53",
   "metadata": {},
   "outputs": [],
   "source": [
    "integrate(cos(x),x)"
   ]
  },
  {
   "cell_type": "code",
   "execution_count": null,
   "id": "850e76ce",
   "metadata": {},
   "outputs": [],
   "source": [
    "integrate(sin(x)-cos(x), (x, 0, 2))"
   ]
  },
  {
   "cell_type": "code",
   "execution_count": null,
   "id": "38d65fbf",
   "metadata": {},
   "outputs": [],
   "source": [
    "from sympy import *\n",
    "x = symbols('x')\n",
    "integrate(exp(-x), (x, 0, oo)) #oo is actually infinity"
   ]
  },
  {
   "cell_type": "code",
   "execution_count": null,
   "id": "8dced873",
   "metadata": {},
   "outputs": [],
   "source": [
    "x, y = symbols('x y')\n",
    "exp3 = -x**2-y**2\n",
    "integrate(exp(exp3), (x, -oo, oo), (y, -oo, oo))"
   ]
  },
  {
   "cell_type": "code",
   "execution_count": null,
   "id": "f1910706",
   "metadata": {},
   "outputs": [],
   "source": [
    "exp4 = integrate(x**x+y**2, x, y)\n",
    "exp4"
   ]
  },
  {
   "cell_type": "code",
   "execution_count": null,
   "id": "33e21502",
   "metadata": {},
   "outputs": [],
   "source": [
    "exp5 = Integral(log(x**2)+3*x, x)\n",
    "exp5"
   ]
  },
  {
   "cell_type": "code",
   "execution_count": null,
   "id": "2cd037f4",
   "metadata": {},
   "outputs": [],
   "source": [
    "exp6 = Integral((x**4 + x**2*exp(x) - x**2 - 2*x*exp(x) - 2*x -exp(x))*exp(x)/((x - 1)**2*(x + 1)**2*(exp(x) + 1)), x)\n",
    "exp6"
   ]
  },
  {
   "cell_type": "code",
   "execution_count": null,
   "id": "764e9dab",
   "metadata": {},
   "outputs": [],
   "source": [
    "exp6.doit()"
   ]
  },
  {
   "cell_type": "code",
   "execution_count": null,
   "id": "dd19441a",
   "metadata": {},
   "outputs": [],
   "source": [
    "exp7 = Integral(x**y*exp(-x), (x, 0, oo))\n",
    "exp7"
   ]
  },
  {
   "cell_type": "code",
   "execution_count": null,
   "id": "cd0d8afd",
   "metadata": {},
   "outputs": [],
   "source": [
    "exp7.doit()"
   ]
  },
  {
   "cell_type": "raw",
   "id": "e1843ba6",
   "metadata": {},
   "source": [
    "Limits:"
   ]
  },
  {
   "cell_type": "code",
   "execution_count": null,
   "id": "b90b390e",
   "metadata": {},
   "outputs": [],
   "source": [
    "limit(sin(x)/x, x, 0)"
   ]
  },
  {
   "cell_type": "code",
   "execution_count": null,
   "id": "f183cc2b",
   "metadata": {},
   "outputs": [],
   "source": [
    "expr = Limit(sin(x)*cos(x), x, 0)  #using small small letter limit, we can evaluate it here.\n",
    "expr"
   ]
  },
  {
   "cell_type": "code",
   "execution_count": null,
   "id": "57d836a3",
   "metadata": {},
   "outputs": [],
   "source": [
    "expr.doit()"
   ]
  },
  {
   "cell_type": "code",
   "execution_count": null,
   "id": "ef97388b",
   "metadata": {},
   "outputs": [],
   "source": [
    "#use f(x).series(x, x0, n). x0 and n can be omitted, in which case the defaults x0=0 and n=6 will be used.\n",
    "exp8 = exp(sin(x))\n",
    "exp8.series(x)"
   ]
  },
  {
   "cell_type": "code",
   "execution_count": null,
   "id": "4387b423",
   "metadata": {},
   "outputs": [],
   "source": [
    "x = symbols('x')\n",
    "exp9 = exp(sin(x))\n",
    "exp9.series(x, 0, 4)"
   ]
  },
  {
   "cell_type": "code",
   "execution_count": null,
   "id": "0cf86249",
   "metadata": {},
   "outputs": [],
   "source": []
  },
  {
   "cell_type": "code",
   "execution_count": null,
   "id": "8f293ed9",
   "metadata": {},
   "outputs": [],
   "source": [
    "'''The  term O(x**4) at the end represents the Landau order term at x=0\n",
    "(not to be confused with big O notation used in computer science, which generally represents the\n",
    "Landau order term at x where x->oo ). \n",
    "It means that all x terms with power greater than or equal to x**4 are omitted.\n",
    "Order terms can be created and manipulated outside of 'series'. \n",
    "They automatically absorb higher order terms.\n",
    "'''\n",
    "exp9.series(x, 0, 4).removeO() "
   ]
  },
  {
   "cell_type": "code",
   "execution_count": null,
   "id": "56af36c7",
   "metadata": {},
   "outputs": [],
   "source": [
    "exp(x-6).series(x, x0=6)"
   ]
  },
  {
   "cell_type": "raw",
   "id": "f1001fba",
   "metadata": {},
   "source": [
    "Finite differences:"
   ]
  },
  {
   "cell_type": "code",
   "execution_count": null,
   "id": "aead341d",
   "metadata": {},
   "outputs": [],
   "source": [
    "f, g = symbols('f g', cls= Function)\n",
    "differentiate_finite(f(x)*g(x))"
   ]
  },
  {
   "cell_type": "code",
   "execution_count": null,
   "id": "6422c05c",
   "metadata": {},
   "outputs": [],
   "source": [
    "f = Function('f')\n",
    "dfdx=f(x).diff(x)\n",
    "dfdx.as_finite_difference()"
   ]
  },
  {
   "cell_type": "code",
   "execution_count": null,
   "id": "1c9e449d",
   "metadata": {},
   "outputs": [],
   "source": [
    "f = Function('f')\n",
    "d2fdx2 = f(x).diff(x, 2)\n",
    "h = symbols('h')\n",
    "d2fdx2.as_finite_difference([-3*h, h, 2*h])"
   ]
  },
  {
   "cell_type": "code",
   "execution_count": null,
   "id": "6913e850",
   "metadata": {},
   "outputs": [],
   "source": [
    "g= Function('g')\n",
    "d2gdx2 = g(x).diff(x, 2)\n",
    "h = symbols('h')\n",
    "d2gdx2.as_finite_difference(h)"
   ]
  },
  {
   "cell_type": "code",
   "execution_count": null,
   "id": "8808e430",
   "metadata": {},
   "outputs": [],
   "source": [
    "x_list = [-3, 1, 2]\n",
    "y_list = symbols('a b c')\n",
    "apply_finite_diff(1, x_list, y_list, 0)"
   ]
  },
  {
   "cell_type": "markdown",
   "id": "9e31c6d2",
   "metadata": {},
   "source": [
    "### Lecture No. 5: Round Off and Truncation errors"
   ]
  },
  {
   "cell_type": "code",
   "execution_count": null,
   "id": "75a3f08c",
   "metadata": {},
   "outputs": [],
   "source": [
    "import numpy as np\n",
    "x = 1\n",
    "y = 1.0+1e-15*np.sqrt(2)\n",
    "dt = 1e-15*np.sqrt(2)\n",
    "dn = y-x\n",
    "error = np.absolute(((dt-dn)/dn)*100)\n",
    "print('Error is (in %): ',error)"
   ]
  },
  {
   "cell_type": "code",
   "execution_count": null,
   "id": "5bbc07e4",
   "metadata": {},
   "outputs": [],
   "source": [
    "x, n = symbols('x n')\n",
    "exp10 = Eq(exp(x), Sum(x**n/factorial(n), (n, 0, oo)))"
   ]
  },
  {
   "cell_type": "code",
   "execution_count": null,
   "id": "e48aa356",
   "metadata": {},
   "outputs": [],
   "source": [
    "print('Maclaurin Series of exponential function is given below:')\n",
    "exp10"
   ]
  },
  {
   "cell_type": "code",
   "execution_count": null,
   "id": "82e49729",
   "metadata": {},
   "outputs": [],
   "source": [
    "expr_exp = exp(x)\n",
    "expr_exp.series(x, 0, 3)"
   ]
  },
  {
   "cell_type": "code",
   "execution_count": null,
   "id": "e89c4c8d",
   "metadata": {},
   "outputs": [],
   "source": [
    "x, dx = symbols('x dx')\n",
    "f = Function('f')\n",
    "der_1 = Derivative(f, x)\n",
    "der_2 = Limit((f(x+dx)-f(x))/dx, dx, 0)\n",
    "expr_sd = Eq(der_1, der_2)"
   ]
  },
  {
   "cell_type": "code",
   "execution_count": null,
   "id": "86b47003",
   "metadata": {},
   "outputs": [],
   "source": [
    "x, i = symbols('x i')\n",
    "eq = Eq(x, 1)\n",
    "eq"
   ]
  },
  {
   "cell_type": "raw",
   "id": "d1b26709",
   "metadata": {},
   "source": [
    "Other section ws theory which is written in the registers"
   ]
  },
  {
   "cell_type": "markdown",
   "id": "cd4434ae",
   "metadata": {},
   "source": [
    "### Lecture No. 6: Root finding and brakecting methods"
   ]
  },
  {
   "cell_type": "raw",
   "id": "4ccb4daa",
   "metadata": {},
   "source": [
    "Bracketing Methods: False Position and Bisection Methods"
   ]
  },
  {
   "cell_type": "code",
   "execution_count": null,
   "id": "3168a58e",
   "metadata": {},
   "outputs": [],
   "source": [
    "import matplotlib.pyplot as plt\n",
    "import numpy as np\n",
    "import sympy as sm\n",
    "%matplotlib inline"
   ]
  },
  {
   "cell_type": "code",
   "execution_count": null,
   "id": "675da6d7",
   "metadata": {},
   "outputs": [],
   "source": [
    "x =  symbols('x')\n",
    "eq = sm.Eq(3*x**3+x, 3)\n",
    "eq"
   ]
  },
  {
   "cell_type": "code",
   "execution_count": null,
   "id": "f437f770",
   "metadata": {},
   "outputs": [],
   "source": [
    "def f(x):\n",
    "    return 3*x**3+x-3"
   ]
  },
  {
   "cell_type": "code",
   "execution_count": null,
   "id": "1f074c47",
   "metadata": {},
   "outputs": [],
   "source": [
    "x = np.arange(0.5,1.51, 0.1)\n",
    "plt.plot(x, f(x))\n",
    "plt.grid()\n",
    "plt.show()"
   ]
  },
  {
   "cell_type": "code",
   "execution_count": null,
   "id": "186fab36",
   "metadata": {},
   "outputs": [],
   "source": [
    "def bisect(xl, xu, es, imax):\n",
    "    xr=xu\n",
    "    x = []; e = []; it = []\n",
    "    for i in range(imax):\n",
    "        xrold = xr\n",
    "        xr = 0.5*(xl+xu)\n",
    "        if (xr!=0.0):\n",
    "            ea = abs(((xr-xrold))/xr)*100\n",
    "        it.append(i); x.append(xr); e.append(ea)\n",
    "        test = f(xl)*f(xr)\n",
    "        if (test<0):\n",
    "            xu = xr\n",
    "        elif (test>0.0):\n",
    "            xl = xr\n",
    "        else:\n",
    "            ea = 0.0\n",
    "        if (ea<es):\n",
    "            break\n",
    "            \n",
    "    return it, x, e"
   ]
  },
  {
   "cell_type": "code",
   "execution_count": null,
   "id": "0ef46ff4",
   "metadata": {},
   "outputs": [],
   "source": [
    "def FalsePos(xl, xu, es, imax):\n",
    "    xr=xu\n",
    "    x = []; e = []; it = []\n",
    "    for i in range(imax):\n",
    "        xrold = xr\n",
    "        xr = xu - ((f(xu)*(xl-xu))/(f(xl)-f(xu)))\n",
    "        if (xr!=0.0):\n",
    "            ea = abs(((xr-xrold))/xr)*100\n",
    "        it.append(i); x.append(xr); e.append(ea)\n",
    "        test = f(xl)*f(xr)\n",
    "        if (test<0):\n",
    "            xu = xr\n",
    "        elif (test>0.0):\n",
    "            xl = xr\n",
    "        else:\n",
    "            ea = 0.0\n",
    "        if (ea<es):\n",
    "            break\n",
    "            \n",
    "    return it, x, e"
   ]
  },
  {
   "cell_type": "code",
   "execution_count": null,
   "id": "ec46457f",
   "metadata": {},
   "outputs": [],
   "source": [
    "i1, x1, e1 = bisect(0.5, 1.5, 1e-12, 100);\n",
    "i2, x2, e2 = FalsePos(0.5, 1.5, 1e-12, 100);\n",
    "plt.plot(i1, e1, label = 'Bisection Method', linewidth = 2)\n",
    "plt.plot(i2, e2, label = 'False Position Method', linewidth = 2, color = 'r', linestyle = '--' )\n",
    "plt.legend()\n",
    "plt.xlabel('Iteration number', size = 16)\n",
    "plt.ylabel('Error', size = 16)\n",
    "plt.yscale('log')\n",
    "plt.show()"
   ]
  },
  {
   "cell_type": "markdown",
   "id": "10e1c007",
   "metadata": {},
   "source": [
    "### Lecture No. 07: Open Methods for root findings"
   ]
  },
  {
   "cell_type": "code",
   "execution_count": 1,
   "id": "b452e513",
   "metadata": {},
   "outputs": [],
   "source": [
    "import matplotlib.pyplot as plt\n",
    "import numpy as np\n",
    "import sympy as sm\n",
    "%matplotlib inline\n",
    "%config InlineBackend.figure_format = 'retina'"
   ]
  },
  {
   "cell_type": "code",
   "execution_count": 9,
   "id": "db5e7ea0",
   "metadata": {},
   "outputs": [
    {
     "data": {
      "text/latex": [
       "$\\displaystyle 3 x^{3} + x = 3$"
      ],
      "text/plain": [
       "Eq(3*x**3 + x, 3)"
      ]
     },
     "execution_count": 9,
     "metadata": {},
     "output_type": "execute_result"
    }
   ],
   "source": [
    "x = sm.symbols('x')\n",
    "eq = sm.Eq(3*x**3+x, 3)\n",
    "eq"
   ]
  },
  {
   "cell_type": "code",
   "execution_count": 10,
   "id": "7eaae1e3",
   "metadata": {},
   "outputs": [
    {
     "data": {
      "text/plain": [
       "'def g(x):\\n    return f(x)+x\\ndef dg(f):\\n    return 9*x**2+2\\n'"
      ]
     },
     "execution_count": 10,
     "metadata": {},
     "output_type": "execute_result"
    }
   ],
   "source": [
    "def f(x):\n",
    "    return 3*x**3+x-3\n",
    "'''def g(x):\n",
    "    return f(x)+x\n",
    "def dg(f):\n",
    "    return 9*x**2+2\n",
    "''''    "
   ]
  },
  {
   "cell_type": "code",
   "execution_count": 11,
   "id": "3a13547c",
   "metadata": {},
   "outputs": [
    {
     "data": {
      "image/png": "[encoded data removed]",
      "text/plain": [
       "<Figure size 432x288 with 1 Axes>"
      ]
     },
     "metadata": {
      "image/png": {
       "height": 248,
       "width": 370
      },
      "needs_background": "light"
     },
     "output_type": "display_data"
    }
   ],
   "source": [
    "#Before solving: lets get an idea, what this function looks like. \n",
    "x = np.arange(0.5, 1.55, 0.1)\n",
    "plt.plot(x, f(x))\n",
    "plt.grid()\n",
    "plt.show()"
   ]
  },
  {
   "cell_type": "code",
   "execution_count": 12,
   "id": "14e8bc60",
   "metadata": {},
   "outputs": [],
   "source": [
    "def g(x):\n",
    "    return ((3.0-x)/3)**(1.0/3)\n",
    "def dg(f): #similarty derivative will also change\n",
    "    return (-1.0/9.0)*(3.0/(3.0-x))**(2/3)"
   ]
  },
  {
   "cell_type": "code",
   "execution_count": 13,
   "id": "1f1faae0",
   "metadata": {},
   "outputs": [
    {
     "data": {
      "image/png": "[encoded data removed]",
      "text/plain": [
       "<Figure size 432x288 with 1 Axes>"
      ]
     },
     "metadata": {
      "image/png": {
       "height": 248,
       "width": 386
      },
      "needs_background": "light"
     },
     "output_type": "display_data"
    }
   ],
   "source": [
    "#Now checking the derivative dg again\n",
    "plt.plot(x, dg(x))\n",
    "plt.show() #Hence dg is less than 1."
   ]
  },
  {
   "cell_type": "code",
   "execution_count": 14,
   "id": "85cd6cda",
   "metadata": {},
   "outputs": [],
   "source": [
    "#Solving through fixed point method\n",
    "def fixedpt(x0, es, imax):\n",
    "    xr=x0\n",
    "    x = []; e = []; it = [] \n",
    "    for i in range(imax):\n",
    "        xrold = xr\n",
    "        xr = g(xrold)\n",
    "        if (xr!=0):\n",
    "            ea = abs(((xr-xrold)/xr)*100)\n",
    "        it.append(i); e.append(ea); x.append(xr)\n",
    "        if (ea<es):\n",
    "            break\n",
    "    return it, x, e"
   ]
  },
  {
   "cell_type": "code",
   "execution_count": null,
   "id": "01feb14f",
   "metadata": {},
   "outputs": [],
   "source": []
  },
  {
   "cell_type": "code",
   "execution_count": 18,
   "id": "d24bc087",
   "metadata": {},
   "outputs": [],
   "source": [
    "#i3, x3, e3 = fixedpt(2, 1e-10, 50) #As this solution diverges. So, check out what dg(x) tells us. As it should be less than 1.\n",
    "i3, x3, e3 = fixedpt(2, 1e-10, 100) #As this solution diverges. So, check out what dg(x) tells us. As it should be less than 1.\n"
   ]
  },
  {
   "cell_type": "code",
   "execution_count": 19,
   "id": "08b7453f",
   "metadata": {},
   "outputs": [],
   "source": [
    "#plt.plot(x, dg(x))\n",
    "#plt.show()  #As from given figure, dg is 10 around 0.9, so means greater than 1. That's why sol. diverges. Now change the initial g(x) function."
   ]
  },
  {
   "cell_type": "code",
   "execution_count": 20,
   "id": "a7901583",
   "metadata": {},
   "outputs": [
    {
     "data": {
      "image/png": "[encoded data removed]",
      "text/plain": [
       "<Figure size 432x288 with 1 Axes>"
      ]
     },
     "metadata": {
      "image/png": {
       "height": 248,
       "width": 384
      },
      "needs_background": "light"
     },
     "output_type": "display_data"
    }
   ],
   "source": [
    "plt.plot(i3, e3, label = 'Fixed Point Iteration')\n",
    "plt.yscale('log')\n",
    "plt.show()\n",
    "#Now worked!"
   ]
  },
  {
   "cell_type": "code",
   "execution_count": 22,
   "id": "72aa12b4",
   "metadata": {},
   "outputs": [
    {
     "data": {
      "image/png": "[encoded data removed]",
      "text/plain": [
       "<Figure size 432x288 with 1 Axes>"
      ]
     },
     "metadata": {
      "image/png": {
       "height": 248,
       "width": 378
      },
      "needs_background": "light"
     },
     "output_type": "display_data"
    }
   ],
   "source": [
    "plt.plot(i3, x3, label = \"Fixed Point Iteration\")\n",
    "plt.yscale('linear')\n",
    "plt.show() #Can be seen how solution is convergiing to almost 0.89 value"
   ]
  },
  {
   "cell_type": "raw",
   "id": "b7076090",
   "metadata": {},
   "source": [
    "Now checking the validity of all the mathods done so far"
   ]
  },
  {
   "cell_type": "code",
   "execution_count": 47,
   "id": "4f99152b",
   "metadata": {},
   "outputs": [],
   "source": [
    "import matplotlib.pyplot as plt\n",
    "import numpy as np\n",
    "from scipy.optimize import brentq\n",
    "%matplotlib inline\n",
    "%config InlineBackend.figure_format = 'retina'"
   ]
  },
  {
   "cell_type": "code",
   "execution_count": 48,
   "id": "a6873096",
   "metadata": {},
   "outputs": [],
   "source": [
    "def f(x):\n",
    "    return 3*x**3+x-3\n",
    "def df(x):\n",
    "    return 9*x**2+1\n",
    "def g(x):\n",
    "    return ((3.0-x)/3)**(1.0/3)\n",
    "def dg(f):\n",
    "    return (-1.0/9.0)*(3.0/(3.0-x))**(2/3)"
   ]
  },
  {
   "cell_type": "code",
   "execution_count": 49,
   "id": "92bf9d71",
   "metadata": {},
   "outputs": [],
   "source": [
    "def bisect(xl, xu, es, imax):\n",
    "    xr=xu\n",
    "    x = []; e = []; it = []\n",
    "    for i in range(imax):\n",
    "        xrold = xr\n",
    "        xr = 0.5*(xl+xu)\n",
    "        if (xr!=0.0):\n",
    "            ea = abs(((xr-xrold))/xr)*100\n",
    "        it.append(i); x.append(xr); e.append(ea)\n",
    "        test = f(xl)*f(xr)\n",
    "        if (test<0):\n",
    "            xu = xr\n",
    "        elif (test>0.0):\n",
    "            xl = xr\n",
    "        else:\n",
    "            ea = 0.0\n",
    "        if (ea<es):\n",
    "            break\n",
    "    return it, x, e\n",
    "\n",
    "\n",
    "def FalsePos(xl, xu, es, imax):\n",
    "    xr=xu\n",
    "    x = []; e = []; it = []\n",
    "    for i in range(imax):\n",
    "        xrold = xr\n",
    "        xr = xu - ((f(xu)*(xl-xu))/(f(xl)-f(xu)))\n",
    "        if (xr!=0.0):\n",
    "            ea = abs(((xr-xrold))/xr)*100\n",
    "        it.append(i); x.append(xr); e.append(ea)\n",
    "        test = f(xl)*f(xr)\n",
    "        if (test<0):\n",
    "            xu = xr\n",
    "        elif (test>0.0):\n",
    "            xl = xr\n",
    "        else:\n",
    "            ea = 0.0\n",
    "        if (ea<es):\n",
    "            break\n",
    "    return it, x, e\n",
    "\n",
    "\n",
    "def fixedpt(x0, es, imax):\n",
    "    xr=x0\n",
    "    x = []; e = []; it = [] \n",
    "    for i in range(imax):\n",
    "        xrold = xr\n",
    "        xr = g(xrold)\n",
    "        if (xr!=0):\n",
    "            ea = abs(((xr-xrold)/xr)*100)\n",
    "        it.append(i); e.append(ea); x.append(xr)\n",
    "        if (ea<es):\n",
    "            break\n",
    "    return it, x, e\n",
    "\n",
    "def NR(x0, es, imax):\n",
    "    xr = x0\n",
    "    it = []; x = []; e = []\n",
    "    for i in range(imax):\n",
    "        xrold = xr\n",
    "        xr = xrold - f(xrold)/df(xrold)\n",
    "        if (xr!= 0):\n",
    "            ea = abs(((xr-xrold)/xr)*100)\n",
    "        it.append(i); x.append(xr), e.append(ea)\n",
    "        if (ea<es):\n",
    "            break\n",
    "    return it, x, e\n",
    "\n",
    "def secant(x0, x1, es, imax):\n",
    "    x = []; e = []; it = []\n",
    "    for i in range(imax):\n",
    "        if f(x1)-f(x0) == 0:\n",
    "            return x1\n",
    "        xr = x1 - (f(x1)*(x1-x0)*1.0/(f(x1)-f(x0))) ; x0=x1 ; x1 = xr\n",
    "        if xr!=0:\n",
    "            ea = abs((xr-x0)/xr)*100\n",
    "        it.append(i) ; x.append(xr) ; e.append(ea)\n",
    "        if ea<es:\n",
    "            break\n",
    "    return it, x, e    "
   ]
  },
  {
   "cell_type": "code",
   "execution_count": 50,
   "id": "2bf63764",
   "metadata": {},
   "outputs": [],
   "source": [
    "i1, x1, e1 = bisect(0, 1, 1e-12, 100)\n",
    "i2, x2, e2 = FalsePos(0, 1, 1e-12, 100)\n",
    "i3, x3, e3 = fixedpt(0, 1e-12, 100)\n",
    "i4, x4, e4 = NR(0, 1e-12, 100)\n",
    "i5, x5, e5 = secant(0, 1, 1e-12, 100)"
   ]
  },
  {
   "cell_type": "code",
   "execution_count": 51,
   "id": "40252b83",
   "metadata": {},
   "outputs": [
    {
     "data": {
      "image/png": "[encoded data removed]",
      "text/plain": [
       "<Figure size 432x288 with 1 Axes>"
      ]
     },
     "metadata": {
      "image/png": {
       "height": 261,
       "width": 397
      },
      "needs_background": "light"
     },
     "output_type": "display_data"
    }
   ],
   "source": [
    "plt.plot(i1, e1, label = \"Bisection Method\")\n",
    "plt.plot(i2,e2, label = \"False Position Method\")\n",
    "plt.plot(i3, e3, label = 'Fixed Point Method')\n",
    "plt.plot(i4, e4, label = \"Newton-Raphson Method\")\n",
    "plt.plot(i5, e5, label = 'Secant Method')\n",
    "\n",
    "plt.legend()\n",
    "plt.xlabel('Iteration Number') ; plt.ylabel('Error')\n",
    "plt.yscale('log')\n",
    "plt.show()"
   ]
  },
  {
   "cell_type": "code",
   "execution_count": 52,
   "id": "7dbc6556",
   "metadata": {},
   "outputs": [],
   "source": [
    "i1_, x1_, e1_ = bisect(0, 2, 1e-12, 100)\n",
    "i2_, x2_, e2_ = FalsePos(0, 2, 1e-12, 100)\n",
    "i3_, x3_, e3_ = fixedpt(2, 1e-12, 100)\n",
    "i4_, x4_, e4_ = NR(2, 1e-12, 100)\n",
    "i5_, x5_, e5_ = secant(0, 2, 1e-12, 100)"
   ]
  },
  {
   "cell_type": "code",
   "execution_count": 53,
   "id": "4087afdc",
   "metadata": {},
   "outputs": [
    {
     "data": {
      "image/png": "[encoded data removed]",
      "text/plain": [
       "<Figure size 432x288 with 1 Axes>"
      ]
     },
     "metadata": {
      "image/png": {
       "height": 261,
       "width": 397
      },
      "needs_background": "light"
     },
     "output_type": "display_data"
    }
   ],
   "source": [
    "plt.plot(i1_, e1_, label = \"Bisection Method\")\n",
    "plt.plot(i2_, e2_, label = \"False Position Method\")\n",
    "plt.plot(i3_, e3_, label = 'Fixed Point Method')\n",
    "plt.plot(i4_, e4_, label = \"Newton-Raphson Method\")\n",
    "plt.plot(i5_, e5_, label = 'Secant Method')\n",
    "\n",
    "plt.legend()\n",
    "plt.xlabel('Iteration Number') ; plt.ylabel('Error')\n",
    "plt.yscale('log')\n",
    "plt.show()"
   ]
  },
  {
   "cell_type": "code",
   "execution_count": 54,
   "id": "36ff3aec",
   "metadata": {},
   "outputs": [
    {
     "name": "stdout",
     "output_type": "stream",
     "text": [
      "60.8 µs ± 10.1 µs per loop (mean ± std. dev. of 7 runs, 10,000 loops each)\n"
     ]
    }
   ],
   "source": [
    "%timeit i1, x1, e1 = bisect(0, 1, 1e-12, 100)"
   ]
  },
  {
   "cell_type": "code",
   "execution_count": 55,
   "id": "0e0f4714",
   "metadata": {},
   "outputs": [
    {
     "name": "stdout",
     "output_type": "stream",
     "text": [
      "42.4 µs ± 3.35 µs per loop (mean ± std. dev. of 7 runs, 10,000 loops each)\n"
     ]
    }
   ],
   "source": [
    "%timeit i2, x2, e2 = FalsePos(0, 1, 1e-12, 100)"
   ]
  },
  {
   "cell_type": "code",
   "execution_count": 56,
   "id": "2a05e783",
   "metadata": {},
   "outputs": [
    {
     "name": "stdout",
     "output_type": "stream",
     "text": [
      "14 µs ± 2.98 µs per loop (mean ± std. dev. of 7 runs, 100,000 loops each)\n"
     ]
    }
   ],
   "source": [
    "%timeit i3, x3, e3 = fixedpt(0, 1e-12, 100)"
   ]
  },
  {
   "cell_type": "code",
   "execution_count": 57,
   "id": "1a3a18d2",
   "metadata": {},
   "outputs": [
    {
     "name": "stdout",
     "output_type": "stream",
     "text": [
      "11.8 µs ± 1.66 µs per loop (mean ± std. dev. of 7 runs, 100,000 loops each)\n"
     ]
    }
   ],
   "source": [
    "%timeit i4, x4, e4 = NR(0, 1e-12, 100)"
   ]
  },
  {
   "cell_type": "code",
   "execution_count": 58,
   "id": "0d784e87",
   "metadata": {},
   "outputs": [
    {
     "name": "stdout",
     "output_type": "stream",
     "text": [
      "18.9 µs ± 2.17 µs per loop (mean ± std. dev. of 7 runs, 100,000 loops each)\n"
     ]
    }
   ],
   "source": [
    "%timeit i5, x5, e5 = secant(0, 1, 1e-12, 100)"
   ]
  },
  {
   "cell_type": "code",
   "execution_count": null,
   "id": "37878c99",
   "metadata": {},
   "outputs": [],
   "source": []
  },
  {
   "cell_type": "code",
   "execution_count": 61,
   "id": "d20ea113",
   "metadata": {},
   "outputs": [
    {
     "data": {
      "text/latex": [
       "$\\displaystyle x^{10} = 1$"
      ],
      "text/plain": [
       "Eq(x**10, 1)"
      ]
     },
     "execution_count": 61,
     "metadata": {},
     "output_type": "execute_result"
    }
   ],
   "source": [
    "x = sm.symbols('x')\n",
    "eq1 = sm.Eq(x**10, 1)\n",
    "eq1"
   ]
  },
  {
   "cell_type": "code",
   "execution_count": 72,
   "id": "f7220f62",
   "metadata": {},
   "outputs": [],
   "source": [
    "import matplotlib.pyplot as plt\n",
    "import numpy as np\n",
    "from scipy.optimize import brentq\n",
    "%matplotlib inline\n",
    "%config InlineBackend.figure_format = 'retina'"
   ]
  },
  {
   "cell_type": "code",
   "execution_count": 83,
   "id": "711e4d42",
   "metadata": {},
   "outputs": [],
   "source": [
    "def f1(x):\n",
    "    return x**10 - 1\n",
    "def df1(x):\n",
    "    return 10*x**9"
   ]
  },
  {
   "cell_type": "code",
   "execution_count": 84,
   "id": "7ed783c9",
   "metadata": {},
   "outputs": [
    {
     "data": {
      "image/png": "[encoded data removed]",
      "text/plain": [
       "<Figure size 432x288 with 1 Axes>"
      ]
     },
     "metadata": {
      "image/png": {
       "height": 248,
       "width": 380
      },
      "needs_background": "light"
     },
     "output_type": "display_data"
    }
   ],
   "source": [
    "x = np.arange(0, 1.1, 0.01)\n",
    "plt.plot(x, f(x))\n",
    "plt.grid()\n",
    "plt.show()"
   ]
  },
  {
   "cell_type": "code",
   "execution_count": 86,
   "id": "33052587",
   "metadata": {},
   "outputs": [],
   "source": [
    "#Solving it through Newton-Raphson Method\n",
    "def nr(x0, es, imax):\n",
    "    xr = x0\n",
    "    it = []; x = []; e = [] \n",
    "    for i in range(imax):\n",
    "        xrold = xr\n",
    "        xr = xrold - (f1(xrold))/(df1(xrold))\n",
    "        if xr!=0:\n",
    "            ea = abs((xr-xrold)/xr)*100\n",
    "        it.append(i); x.append(xr); e.append(ea) \n",
    "        if ea<es:\n",
    "            break\n",
    "            print('Break')\n",
    "    return it, x, e"
   ]
  },
  {
   "cell_type": "code",
   "execution_count": 87,
   "id": "7bace4fe",
   "metadata": {},
   "outputs": [],
   "source": [
    "i11, x11, e11 = nr(0.5, 1e-12, 100)"
   ]
  },
  {
   "cell_type": "code",
   "execution_count": 88,
   "id": "f1c3f99c",
   "metadata": {},
   "outputs": [
    {
     "name": "stdout",
     "output_type": "stream",
     "text": [
      "46 µs ± 3.51 µs per loop (mean ± std. dev. of 7 runs, 10,000 loops each)\n"
     ]
    }
   ],
   "source": [
    "%timeit i11, x11, e11 = nr(0.5, 1e-12, 100)"
   ]
  },
  {
   "cell_type": "code",
   "execution_count": 89,
   "id": "e885ecd8",
   "metadata": {},
   "outputs": [
    {
     "data": {
      "image/png": "[encoded data removed]",
      "text/plain": [
       "<Figure size 432x288 with 1 Axes>"
      ]
     },
     "metadata": {
      "image/png": {
       "height": 248,
       "width": 375
      },
      "needs_background": "light"
     },
     "output_type": "display_data"
    }
   ],
   "source": [
    "plt.plot(i11, e11)\n",
    "plt.show()"
   ]
  },
  {
   "cell_type": "code",
   "execution_count": 91,
   "id": "8fa703c8",
   "metadata": {},
   "outputs": [
    {
     "data": {
      "image/png": "[encoded data removed]",
      "text/plain": [
       "<Figure size 432x288 with 1 Axes>"
      ]
     },
     "metadata": {
      "image/png": {
       "height": 248,
       "width": 369
      },
      "needs_background": "light"
     },
     "output_type": "display_data"
    }
   ],
   "source": [
    "plt.plot(i11, x11)\n",
    "plt.show()"
   ]
  },
  {
   "cell_type": "code",
   "execution_count": 99,
   "id": "ae7c0007",
   "metadata": {},
   "outputs": [],
   "source": [
    "import sympy as sm\n",
    "import math as m"
   ]
  },
  {
   "cell_type": "raw",
   "id": "93b99c2c",
   "metadata": {},
   "source": [
    "x = sm.symbols('x')\n",
    "expr => x*exp(-x)=0"
   ]
  },
  {
   "cell_type": "code",
   "execution_count": 102,
   "id": "a5ce333f",
   "metadata": {},
   "outputs": [],
   "source": [
    "import matplotlib.pyplot as plt\n",
    "import numpy as np\n",
    "from scipy.optimize import brentq\n",
    "%matplotlib inline\n",
    "%config InlineBackend.figure_format = 'retina'"
   ]
  },
  {
   "cell_type": "code",
   "execution_count": 103,
   "id": "1e815da9",
   "metadata": {},
   "outputs": [],
   "source": [
    "def f3(x):\n",
    "    return x*np.exp(-x)\n",
    "def df3(x):\n",
    "    return (1-x)*np.exp(-x**2)    "
   ]
  },
  {
   "cell_type": "code",
   "execution_count": 106,
   "id": "27bfa533",
   "metadata": {},
   "outputs": [
    {
     "data": {
      "image/png": "[encoded data removed]",
      "text/plain": [
       "<Figure size 432x288 with 1 Axes>"
      ]
     },
     "metadata": {
      "image/png": {
       "height": 248,
       "width": 378
      },
      "needs_background": "light"
     },
     "output_type": "display_data"
    }
   ],
   "source": [
    "x = np.arange(0, 10, 0.01)\n",
    "plt.plot(x, f3(x))\n",
    "plt.grid()\n",
    "plt.show()"
   ]
  },
  {
   "cell_type": "code",
   "execution_count": 125,
   "id": "009cca02",
   "metadata": {},
   "outputs": [],
   "source": [
    "def NRM(x0, es, imax): #NRM = Newton Raphson Method\\\n",
    "    xr = x0\n",
    "    it = []; e = []; x = []\n",
    "    for i in range(imax):\n",
    "        xrold = xr\n",
    "        xr = xrold - f3(xrold)/df3(xrold)\n",
    "        if xr!= 0:\n",
    "            ea = abs((xr-xrold)/xrold)*100\n",
    "        e.append(ea); x.append(xr); it.append(i)\n",
    "        if ea<es:\n",
    "            break\n",
    "            print('Break')\n",
    "    return it, e, x    "
   ]
  },
  {
   "cell_type": "code",
   "execution_count": 126,
   "id": "b459d206",
   "metadata": {},
   "outputs": [],
   "source": [
    "i3, e3, x3 = NRM(0.5, 1e-12, 100)"
   ]
  },
  {
   "cell_type": "code",
   "execution_count": 127,
   "id": "a51eee34",
   "metadata": {},
   "outputs": [
    {
     "name": "stdout",
     "output_type": "stream",
     "text": [
      "238 µs ± 14.7 µs per loop (mean ± std. dev. of 7 runs, 1,000 loops each)\n"
     ]
    }
   ],
   "source": [
    "%timeit i3, e3, x3 = NRM(0.5, 1e-12, 100)"
   ]
  },
  {
   "cell_type": "code",
   "execution_count": 128,
   "id": "8ca8e53a",
   "metadata": {},
   "outputs": [
    {
     "data": {
      "image/png": "[encoded data removed]",
      "text/plain": [
       "<Figure size 432x288 with 1 Axes>"
      ]
     },
     "metadata": {
      "image/png": {
       "height": 248,
       "width": 375
      },
      "needs_background": "light"
     },
     "output_type": "display_data"
    }
   ],
   "source": [
    "plt.plot(i3, e3)\n",
    "plt.yscale('log')\n",
    "plt.grid()\n",
    "plt.show()"
   ]
  },
  {
   "cell_type": "code",
   "execution_count": 132,
   "id": "1cf6ac4b",
   "metadata": {},
   "outputs": [
    {
     "name": "stderr",
     "output_type": "stream",
     "text": [
      "C:\\Users\\Muhammad Shuraim\\AppData\\Local\\Temp\\ipykernel_11036\\2534977104.py:6: RuntimeWarning: invalid value encountered in double_scalars\n",
      "  xr = xrold - f3(xrold)/df3(xrold)\n"
     ]
    },
    {
     "name": "stdout",
     "output_type": "stream",
     "text": [
      "310 µs ± 14.1 µs per loop (mean ± std. dev. of 7 runs, 1,000 loops each)\n"
     ]
    }
   ],
   "source": [
    "%timeit i3_, e3_, x3_ = NRM(2, 1e-12, 100) #As 3 is on that side, where function have a solution at infinity. So, giving an error"
   ]
  },
  {
   "cell_type": "code",
   "execution_count": 134,
   "id": "eac3a895",
   "metadata": {},
   "outputs": [
    {
     "data": {
      "image/png": "[encoded data removed]",
      "text/plain": [
       "<Figure size 432x288 with 1 Axes>"
      ]
     },
     "metadata": {
      "image/png": {
       "height": 248,
       "width": 374
      },
      "needs_background": "light"
     },
     "output_type": "display_data"
    }
   ],
   "source": [
    "plt.plot(i3_, e3_)\n",
    "plt.yscale('log')\n",
    "plt.show()"
   ]
  },
  {
   "cell_type": "markdown",
   "id": "d076ed92",
   "metadata": {},
   "source": [
    "### Lecture No. 9: Systems of Non-Linear Equations"
   ]
  },
  {
   "cell_type": "code",
   "execution_count": 9,
   "id": "99061024",
   "metadata": {},
   "outputs": [],
   "source": [
    "import matplotlib.pyplot as plt\n",
    "import numpy as np\n",
    "import sympy as sm\n",
    "%matplotlib inline\n",
    "%config InlineBackend.figure_format = 'retina'"
   ]
  },
  {
   "cell_type": "code",
   "execution_count": 10,
   "id": "2e4632f3",
   "metadata": {},
   "outputs": [
    {
     "name": "stdout",
     "output_type": "stream",
     "text": [
      "Solve the following system:\n",
      "\n"
     ]
    },
    {
     "data": {
      "text/latex": [
       "$\\displaystyle x^{2} + x y = 10$"
      ],
      "text/plain": [
       "Eq(x**2 + x*y, 10)"
      ]
     },
     "execution_count": 10,
     "metadata": {},
     "output_type": "execute_result"
    }
   ],
   "source": [
    "x, y = sm.symbols('x y')\n",
    "print('Solve the following system:\\n')\n",
    "eq1 = sm.Eq(x**2+x*y, 10)\n",
    "eq2 = sm.Eq(y+3*x*y**2, 57)\n",
    "eq1"
   ]
  },
  {
   "cell_type": "code",
   "execution_count": 11,
   "id": "2861b8db",
   "metadata": {},
   "outputs": [
    {
     "data": {
      "text/latex": [
       "$\\displaystyle 3 x y^{2} + y = 57$"
      ],
      "text/plain": [
       "Eq(3*x*y**2 + y, 57)"
      ]
     },
     "execution_count": 11,
     "metadata": {},
     "output_type": "execute_result"
    }
   ],
   "source": [
    "eq2"
   ]
  },
  {
   "cell_type": "code",
   "execution_count": 12,
   "id": "c36ce5e3",
   "metadata": {},
   "outputs": [
    {
     "name": "stdout",
     "output_type": "stream",
     "text": [
      "using the fixed--point iterations method with reformulations:\n"
     ]
    },
    {
     "data": {
      "text/latex": [
       "$\\displaystyle x = \\frac{10 - x^{2}}{y}$"
      ],
      "text/plain": [
       "Eq(x, (10 - x**2)/y)"
      ]
     },
     "execution_count": 12,
     "metadata": {},
     "output_type": "execute_result"
    }
   ],
   "source": [
    "print('using the fixed--point iterations method with reformulations:')\n",
    "modeq1 = sm.Eq(x, ((10-x**2)/y))\n",
    "modeq2 = sm.Eq(y, 57-3*x*y**2)\n",
    "modeq1"
   ]
  },
  {
   "cell_type": "code",
   "execution_count": 13,
   "id": "24c2e97c",
   "metadata": {},
   "outputs": [
    {
     "data": {
      "text/latex": [
       "$\\displaystyle y = - 3 x y^{2} + 57$"
      ],
      "text/plain": [
       "Eq(y, -3*x*y**2 + 57)"
      ]
     },
     "execution_count": 13,
     "metadata": {},
     "output_type": "execute_result"
    }
   ],
   "source": [
    "modeq2"
   ]
  },
  {
   "cell_type": "code",
   "execution_count": 14,
   "id": "33a887fc",
   "metadata": {},
   "outputs": [],
   "source": [
    "def u(x, y):\n",
    "    return (10-x**2)/y\n",
    "def v(x, y):\n",
    "    return 57-3*x*y**2"
   ]
  },
  {
   "cell_type": "code",
   "execution_count": 16,
   "id": "edc96f08",
   "metadata": {},
   "outputs": [],
   "source": [
    "def fixedPT(x0, y0, es, imax):\n",
    "    xr = x0; yr = y0\n",
    "    x = []; y = []; ex = []; ey = []; it = []; e = []\n",
    "    for i in range(imax):\n",
    "        xrold = xr; yrold = yr\n",
    "        xr = u(xrold, yrold); yr = v(xr, yrold)\n",
    "        if xr!=0 and yr!=0:\n",
    "            eax = abs((xr-xrold)/xr)*100\n",
    "            eay = abs((yr-yrold)/yr)*100\n",
    "            ea = ((eax)**2+(eay)**2)**(1/2)\n",
    "        x.append(xr); y.append(yr); it.append(i); ey.append(eay); ex.append(eax); e.append(ea)\n",
    "        if ea<es:\n",
    "            break\n",
    "            print('Break')\n",
    "    return x, y, it, e"
   ]
  },
  {
   "cell_type": "code",
   "execution_count": 21,
   "id": "c599d0f4",
   "metadata": {},
   "outputs": [
    {
     "ename": "ValueError",
     "evalue": "too many values to unpack (expected 4)",
     "output_type": "error",
     "traceback": [
      "\u001b[1;31m---------------------------------------------------------------------------\u001b[0m",
      "\u001b[1;31mValueError\u001b[0m                                Traceback (most recent call last)",
      "Input \u001b[1;32mIn [21]\u001b[0m, in \u001b[0;36m<cell line: 1>\u001b[1;34m()\u001b[0m\n\u001b[1;32m----> 1\u001b[0m x_eq, y_eq, i_eq, e_eq \u001b[38;5;241m=\u001b[39m fixedPT(\u001b[38;5;241m1.5\u001b[39m, \u001b[38;5;241m3.5\u001b[39m, \u001b[38;5;241m1e-12\u001b[39m, \u001b[38;5;241m50\u001b[39m)\n",
      "\u001b[1;31mValueError\u001b[0m: too many values to unpack (expected 4)"
     ]
    }
   ],
   "source": [
    "x_eq, y_eq, i_eq, e_eq = fixedPT(1.5, 3.5, 1e-12, 50) #Too many, means the solution does not converge. \n",
    "#So, to converge it, we need to change the reformulations"
   ]
  },
  {
   "cell_type": "code",
   "execution_count": 31,
   "id": "4a49ae40",
   "metadata": {},
   "outputs": [
    {
     "data": {
      "text/latex": [
       "$\\displaystyle x = \\left(- x y + 10\\right)^{0.5}$"
      ],
      "text/plain": [
       "Eq(x, (-x*y + 10)**0.5)"
      ]
     },
     "execution_count": 31,
     "metadata": {},
     "output_type": "execute_result"
    }
   ],
   "source": [
    "'''Now changing the formulations as below and then try to solve, may get our answer'''\n",
    "x, y = sm.symbols('x y')\n",
    "modeq11 = sm.Eq(x, (10-x*y)**(1/2))\n",
    "modeq11"
   ]
  },
  {
   "cell_type": "code",
   "execution_count": 35,
   "id": "92ab8794",
   "metadata": {},
   "outputs": [
    {
     "data": {
      "text/latex": [
       "$\\displaystyle y = 0.577350269189626 \\left(\\frac{57 - y}{x}\\right)^{0.5}$"
      ],
      "text/plain": [
       "Eq(y, 0.577350269189626*((57 - y)/x)**0.5)"
      ]
     },
     "execution_count": 35,
     "metadata": {},
     "output_type": "execute_result"
    }
   ],
   "source": [
    "modeq22 = sm.Eq(y, ((57-y)/(3*x))**(1/2))\n",
    "modeq22"
   ]
  },
  {
   "cell_type": "code",
   "execution_count": 39,
   "id": "23917863",
   "metadata": {},
   "outputs": [],
   "source": [
    "#Now using the fixed point method as follows:\n",
    "def u1(x,y):\n",
    "    return (10-x*y)**(1/2)\n",
    "def v1(x, y):\n",
    "    return ((57-y)/(3*x))**(1/2)"
   ]
  },
  {
   "cell_type": "code",
   "execution_count": 45,
   "id": "0f42cc3a",
   "metadata": {},
   "outputs": [],
   "source": [
    "def FixPT(x0, y0, es, imax):\n",
    "    xr = x0; yr = y0\n",
    "    x = []; y = []; ex = []; ey = []; it = []; e = []\n",
    "    for i in range (imax):\n",
    "        xrold = xr; yrold = yr\n",
    "        xr = u1(xrold, yrold); yr = v1(xr, yrold)\n",
    "        if xr!=0 and yr!=0:\n",
    "            eax = abs((xr-xrold)/xr)*100\n",
    "            eay = abs((yr-yrold)/yr)*100\n",
    "            ea = ((eax)**2+(eay)**2)**(1/2)\n",
    "        x.append(xr); y.append(yr); e.append(ea); it.append(i); ex.append(eax); ey.append(eay)\n",
    "        if ea<es:\n",
    "            break\n",
    "    return x, y, e, it"
   ]
  },
  {
   "cell_type": "code",
   "execution_count": 46,
   "id": "c1de31e8",
   "metadata": {},
   "outputs": [],
   "source": [
    "modx_eq, mody_eq, mode_eq, modi_eq = FixPT(1.5, 3.5, 1e-12, 50)"
   ]
  },
  {
   "cell_type": "code",
   "execution_count": 51,
   "id": "f2591667",
   "metadata": {},
   "outputs": [
    {
     "data": {
      "image/png": "[encoded data removed]",
      "text/plain": [
       "<Figure size 432x288 with 1 Axes>"
      ]
     },
     "metadata": {
      "image/png": {
       "height": 248,
       "width": 384
      },
      "needs_background": "light"
     },
     "output_type": "display_data"
    }
   ],
   "source": [
    "plt.plot(modi_eq, mode_eq)\n",
    "plt.yscale('log')\n",
    "plt.show()"
   ]
  },
  {
   "cell_type": "code",
   "execution_count": 49,
   "id": "32626d89",
   "metadata": {},
   "outputs": [
    {
     "data": {
      "text/plain": [
       "[2.179449471770337,\n",
       " 1.9405338789116078,\n",
       " 2.0204562858807944,\n",
       " 1.9930281297863939,\n",
       " 2.0023852415506,\n",
       " 1.9991849114383617,\n",
       " 2.0002786521299285,\n",
       " 1.9999047513979171,\n",
       " 2.000032559383514,\n",
       " 1.9999888702217137,\n",
       " 2.0000038045152855,\n",
       " 1.9999986994971515,\n",
       " 2.0000004445530273,\n",
       " 1.9999998480377423,\n",
       " 2.0000000519455003,\n",
       " 1.9999999822433872,\n",
       " 2.0000000060697714,\n",
       " 1.9999999979251604,\n",
       " 2.0000000007092456,\n",
       " 1.9999999997575575,\n",
       " 2.000000000082874,\n",
       " 1.9999999999716709,\n",
       " 2.000000000009684,\n",
       " 1.9999999999966898,\n",
       " 2.0000000000011315,\n",
       " 1.9999999999996132,\n",
       " 2.0000000000001323,\n",
       " 1.9999999999999547,\n",
       " 2.0000000000000155,\n",
       " 1.9999999999999947,\n",
       " 2.0000000000000018]"
      ]
     },
     "execution_count": 49,
     "metadata": {},
     "output_type": "execute_result"
    }
   ],
   "source": [
    "modx_eq #Hence it is approaching to 2.000000000000000000"
   ]
  },
  {
   "cell_type": "code",
   "execution_count": 50,
   "id": "f0c81780",
   "metadata": {},
   "outputs": [
    {
     "data": {
      "text/plain": [
       "[2.860505988116444,\n",
       " 3.0495506732218938,\n",
       " 2.9834047467413445,\n",
       " 3.005704362568321,\n",
       " 2.998054303091251,\n",
       " 3.000665561004677,\n",
       " 2.9997725461633733,\n",
       " 3.0000777573091764,\n",
       " 2.999973420852066,\n",
       " 3.000009085680182,\n",
       " 2.9999968942378312,\n",
       " 3.00000106164881,\n",
       " 2.9999996370950437,\n",
       " 3.0000001240523932,\n",
       " 2.999999957594976,\n",
       " 3.000000014495377,\n",
       " 2.9999999950450222,\n",
       " 3.000000001693768,\n",
       " 2.999999999421017,\n",
       " 3.000000000197915,\n",
       " 2.999999999932347,\n",
       " 3.000000000023126,\n",
       " 2.9999999999920948,\n",
       " 3.0000000000027023,\n",
       " 2.9999999999990763,\n",
       " 3.0000000000003157,\n",
       " 2.999999999999892,\n",
       " 3.000000000000037,\n",
       " 2.9999999999999876,\n",
       " 3.0000000000000044,\n",
       " 2.9999999999999987]"
      ]
     },
     "execution_count": 50,
     "metadata": {},
     "output_type": "execute_result"
    }
   ],
   "source": [
    "mody_eq #Hence it is approaching to 3.0000000000000"
   ]
  },
  {
   "cell_type": "code",
   "execution_count": 60,
   "id": "c6c01b16",
   "metadata": {},
   "outputs": [],
   "source": [
    "#Newton-Raphson Method:\n",
    "def u(x, y):\n",
    "    return x**2+x*y-10\n",
    "def v(x, y):\n",
    "    return y+3*x*y**2-57"
   ]
  },
  {
   "cell_type": "code",
   "execution_count": 61,
   "id": "fc2aa2eb",
   "metadata": {},
   "outputs": [],
   "source": [
    "def ux(x, y):\n",
    "    return 2*x+y\n",
    "def uy(x, y):\n",
    "    return x\n",
    "def vx(x, y):\n",
    "    return 3*y**2\n",
    "def vy(x, y):\n",
    "    return 1+6*x*y\n",
    "def jac(x, y):\n",
    "    return ux(x, y)*vy(x, y)-vx(x, y)*uy(x, y)\n",
    "def nrx(x, y):\n",
    "    return x - ((u(x, y)*vy(x, y) - v(x, y)*uy(x, y))/jac(x, y))\n",
    "def nry(x, y):\n",
    "    return y - ((v(x, y)*ux(x, y) - u(x, y)*vx(x, y))/jac(x, y))"
   ]
  },
  {
   "cell_type": "code",
   "execution_count": 62,
   "id": "11ad484d",
   "metadata": {},
   "outputs": [],
   "source": [
    "def NewRaphM(x0, y0, es, imax):\n",
    "    xr = x0; yr = y0\n",
    "    x = []; y = []; e = []; it = []\n",
    "    for i in range(imax):\n",
    "        xrold = xr; yrold = yr\n",
    "        xr = nrx(xrold, yrold); yr = nry(xrold, yrold)\n",
    "        if xr!=0 and yr!=0:\n",
    "            eax = abs((xr-xrold)/xr)\n",
    "            eay = abs((yr-yrold)/yr)\n",
    "            ea = ((eax)**2+(eay)**2)**(1/2)\n",
    "        it.append(i); x.append(xr); y.append(yr); e.append(ea)\n",
    "        if ea<es:\n",
    "            break\n",
    "    return it, x, y, e"
   ]
  },
  {
   "cell_type": "code",
   "execution_count": 78,
   "id": "d82aa523",
   "metadata": {},
   "outputs": [],
   "source": [
    "ip, xp, yp, ep = NewRaphM(1.5, 3.5, 1e-12, 50) "
   ]
  },
  {
   "cell_type": "code",
   "execution_count": 79,
   "id": "e64491ec",
   "metadata": {},
   "outputs": [
    {
     "data": {
      "text/plain": [
       "<function matplotlib.pyplot.show(close=None, block=None)>"
      ]
     },
     "execution_count": 79,
     "metadata": {},
     "output_type": "execute_result"
    },
    {
     "data": {
      "image/png": "[encoded data removed]",
      "text/plain": [
       "<Figure size 432x288 with 1 Axes>"
      ]
     },
     "metadata": {
      "image/png": {
       "height": 248,
       "width": 384
      },
      "needs_background": "light"
     },
     "output_type": "display_data"
    }
   ],
   "source": [
    "plt.plot(ip, ep)\n",
    "plt.yscale('log')\n",
    "plt.show"
   ]
  },
  {
   "cell_type": "code",
   "execution_count": 80,
   "id": "e0fa7e38",
   "metadata": {},
   "outputs": [
    {
     "data": {
      "text/plain": [
       "[2.0360288230584467,\n",
       " 1.9987006090558244,\n",
       " 1.99999998387626,\n",
       " 1.99999999999998,\n",
       " 2.0]"
      ]
     },
     "execution_count": 80,
     "metadata": {},
     "output_type": "execute_result"
    }
   ],
   "source": [
    "xp     #So, it approaches to 2.0"
   ]
  },
  {
   "cell_type": "code",
   "execution_count": 81,
   "id": "44cf5e28",
   "metadata": {},
   "outputs": [
    {
     "data": {
      "text/plain": [
       "[2.843875100080064,\n",
       " 3.002288562924508,\n",
       " 2.999999413388913,\n",
       " 3.000000000000075,\n",
       " 3.0]"
      ]
     },
     "execution_count": 81,
     "metadata": {},
     "output_type": "execute_result"
    }
   ],
   "source": [
    "yp      #So, it approaches to 3.0"
   ]
  },
  {
   "cell_type": "code",
   "execution_count": 82,
   "id": "ae377d21",
   "metadata": {},
   "outputs": [],
   "source": [
    "ip1, xp1, yp1, ep1 = NewRaphM(1.5e5, 3.5e5, 1e-12, 50) "
   ]
  },
  {
   "cell_type": "code",
   "execution_count": 83,
   "id": "721c5062",
   "metadata": {},
   "outputs": [
    {
     "data": {
      "image/png": "[encoded data removed]",
      "text/plain": [
       "<Figure size 432x288 with 1 Axes>"
      ]
     },
     "metadata": {
      "image/png": {
       "height": 251,
       "width": 384
      },
      "needs_background": "light"
     },
     "output_type": "display_data"
    }
   ],
   "source": [
    "plt.plot(ip1, ep1)\n",
    "plt.yscale('log')\n",
    "plt.show()"
   ]
  },
  {
   "cell_type": "code",
   "execution_count": 84,
   "id": "947f65b2",
   "metadata": {},
   "outputs": [
    {
     "data": {
      "text/plain": [
       "[47368.421073979625,\n",
       " 9267.73460291481,\n",
       " 566.9838334995202,\n",
       " 2.4725675701575938,\n",
       " 0.00012658693124345533,\n",
       " 7.864863202616931e-05,\n",
       " 0.00011389399971412437,\n",
       " 0.00041042656542647434,\n",
       " -0.0005494718495403213,\n",
       " -0.00032038097043938325,\n",
       " -0.000451305977535535,\n",
       " -0.001519837296569175,\n",
       " 0.002379951737468116,\n",
       " 0.0012949859826064366,\n",
       " 0.001774700529677175,\n",
       " 0.005616847708356197,\n",
       " -0.010334352087019664,\n",
       " -0.005197330150151646,\n",
       " -0.006925440096822751,\n",
       " -0.020722914684662457,\n",
       " 0.0444258457055975,\n",
       " 0.020654091840682592,\n",
       " 0.026808986268091004,\n",
       " 0.07586277137917934,\n",
       " -0.2017143438804292,\n",
       " -0.08156697996874715,\n",
       " -0.1018782866888279,\n",
       " -0.2742647182169432,\n",
       " 0.8134079325163529,\n",
       " 0.3133655879220356,\n",
       " 0.37315083037166197,\n",
       " 0.8422151417822199,\n",
       " 17.519462392963923,\n",
       " 8.057941042117028,\n",
       " 3.8026421574213476,\n",
       " 2.2372327878527196,\n",
       " 1.9675605118784079,\n",
       " 1.9965007179961165,\n",
       " 1.9999973063563297,\n",
       " 2.0000000000013096,\n",
       " 2.0]"
      ]
     },
     "execution_count": 84,
     "metadata": {},
     "output_type": "execute_result"
    }
   ],
   "source": [
    "xp1    ##Appraching to 2.0 but takes many iterations. So, initial guess matters a lot"
   ]
  },
  {
   "cell_type": "code",
   "execution_count": 85,
   "id": "c3cd524b",
   "metadata": {},
   "outputs": [
    {
     "data": {
      "text/plain": [
       "[294736.8420794216,\n",
       " 265903.88999381324,\n",
       " 257770.12194402597,\n",
       " 257208.06502198524,\n",
       " 257201.41354946696,\n",
       " 176398.92284781346,\n",
       " 48096.8962242259,\n",
       " -37423.359715061146,\n",
       " -63160.19779761958,\n",
       " -44532.627482108815,\n",
       " -13014.39732403765,\n",
       " 8655.529732974745,\n",
       " 15629.78513942082,\n",
       " 11327.028488803846,\n",
       " 3526.1051476477096,\n",
       " -1999.1157225207035,\n",
       " -3896.873798002394,\n",
       " -2904.712875033775,\n",
       " -958.240417520648,\n",
       " 465.17431869031,\n",
       " 979.7492211783626,\n",
       " 749.3497380010863,\n",
       " 260.82728187383776,\n",
       " -104.36479374553159,\n",
       " -249.56797200999878,\n",
       " -198.2641164791241,\n",
       " -73.1059318951553,\n",
       " 25.991551908550605,\n",
       " 64.71448805359378,\n",
       " 52.26384817605519,\n",
       " 21.507549514749535,\n",
       " -1.5482450340448963,\n",
       " 8.33454331146014,\n",
       " 6.475508744537622,\n",
       " 5.113304520820529,\n",
       " 4.062888411282132,\n",
       " 3.2616530443529457,\n",
       " 3.00902029261145,\n",
       " 2.9999997702873085,\n",
       " 2.999999999999354,\n",
       " 2.9999999999999996]"
      ]
     },
     "execution_count": 85,
     "metadata": {},
     "output_type": "execute_result"
    }
   ],
   "source": [
    "yp1   #Appraching to 3.0 but takes many iterations. So, initial guess matters a lot"
   ]
  },
  {
   "cell_type": "code",
   "execution_count": 86,
   "id": "722a0ca5",
   "metadata": {},
   "outputs": [
    {
     "name": "stdout",
     "output_type": "stream",
     "text": [
      "25.1 µs ± 2.41 µs per loop (mean ± std. dev. of 7 runs, 10,000 loops each)\n"
     ]
    }
   ],
   "source": [
    "%timeit ip, xp, yp, ep = NewRaphM(1.5, 3.5, 1e-12, 50) "
   ]
  },
  {
   "cell_type": "code",
   "execution_count": 87,
   "id": "d3c6f07a",
   "metadata": {},
   "outputs": [
    {
     "name": "stdout",
     "output_type": "stream",
     "text": [
      "221 µs ± 13.5 µs per loop (mean ± std. dev. of 7 runs, 1,000 loops each)\n"
     ]
    }
   ],
   "source": [
    "%timeit ip1, xp1, yp1, ep1 = NewRaphM(1.5e5, 3.5e5, 1e-12, 50) "
   ]
  },
  {
   "cell_type": "code",
   "execution_count": null,
   "id": "ea485975",
   "metadata": {},
   "outputs": [],
   "source": []
  }
 ],
 "metadata": {
  "kernelspec": {
   "display_name": "Python 3 (ipykernel)",
   "language": "python",
   "name": "python3"
  },
  "language_info": {
   "codemirror_mode": {
    "name": "ipython",
    "version": 3
   },
   "file_extension": ".py",
   "mimetype": "text/x-python",
   "name": "python",
   "nbconvert_exporter": "python",
   "pygments_lexer": "ipython3",
   "version": "3.10.5"
  }
 },
 "nbformat": 4,
 "nbformat_minor": 5
}
