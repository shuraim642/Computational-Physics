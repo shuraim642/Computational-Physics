{
 "cells": [
  {
   "cell_type": "markdown",
   "id": "5f282f74",
   "metadata": {},
   "source": [
    "### Lecture No. 2: Intro to Python"
   ]
  },
  {
   "cell_type": "code",
   "execution_count": null,
   "id": "baa74471",
   "metadata": {},
   "outputs": [],
   "source": [
    "password = \"PakistanPP\"\n",
    "p = input('Please Enter your password: ')\n",
    "i = 1\n",
    "while p!=password:\n",
    "    i+=1\n",
    "    if i<=3:\n",
    "        p = input('Please enter your password again: ')\n",
    "    else:\n",
    "        break\n",
    "\n",
    "if i>3:\n",
    "    print(\"You have wrongly put your password\", i-1, \"times\")\n",
    "else:\n",
    "    print(\"ThankYou, You can have your transactions\")"
   ]
  },
  {
   "cell_type": "code",
   "execution_count": null,
   "id": "911d8308",
   "metadata": {},
   "outputs": [],
   "source": [
    "temp = float(input('Please enter the temperature reading: '))\n",
    "if temp<0:\n",
    "    print('Water is ice/freezing phase')\n",
    "elif temp>=0 and temp<=100:\n",
    "    print('Water is in liquid phase')\n",
    "else:\n",
    "    print('Water is in steam phase')"
   ]
  },
  {
   "cell_type": "code",
   "execution_count": null,
   "id": "bdcbea19",
   "metadata": {},
   "outputs": [],
   "source": [
    "from numpy import zeros\n",
    "n = int(input('How many student you have? '))\n",
    "gpa = zeros(n, float)\n",
    "i = 0\n",
    "while i<n:\n",
    "    gpa[i] = float(input(\"Please enter the GPA of your student: \"))\n",
    "    i+=1\n",
    "avg_gpa = sum(gpa)/len(gpa)    \n",
    "print(\"The average of GPA's of given students is: \", avg_gpa)"
   ]
  },
  {
   "cell_type": "markdown",
   "id": "39ec0911",
   "metadata": {},
   "source": [
    "### Lecture No. 3: Intro to Python"
   ]
  },
  {
   "cell_type": "code",
   "execution_count": null,
   "id": "0784609c",
   "metadata": {},
   "outputs": [],
   "source": [
    "import numpy as np\n",
    "from math import exp, log, cos, sin, pi"
   ]
  },
  {
   "cell_type": "code",
   "execution_count": null,
   "id": "32fa57a2",
   "metadata": {},
   "outputs": [],
   "source": [
    "a = np.loadtxt('a_file.txt')\n",
    "exp_mean = exp(sum(a)/len(a))\n",
    "print('Exponential of Mean of given numbers in the list is: ', exp_mean)"
   ]
  },
  {
   "cell_type": "code",
   "execution_count": null,
   "id": "41dfb10a",
   "metadata": {},
   "outputs": [],
   "source": [
    "def tables(n):\n",
    "    for i in range(1,11):\n",
    "        print(n, 'x', i, '=', n*i)\n",
    "        \n",
    "tables(float(input('Please put the number for which you want table: ')))"
   ]
  },
  {
   "cell_type": "code",
   "execution_count": null,
   "id": "7b48ade4",
   "metadata": {},
   "outputs": [],
   "source": [
    "def factorial(m):\n",
    "    x=1\n",
    "    for i in range(1,m):\n",
    "        x = x*m\n",
    "        m-=1\n",
    "    return x\n",
    "y = factorial(int(input('Give the number for which a factorial is needed:')))\n",
    "print('Factorial of given number is: ',y)"
   ]
  },
  {
   "cell_type": "code",
   "execution_count": null,
   "id": "2cc6eafa",
   "metadata": {},
   "outputs": [],
   "source": [
    "def polar2cart(r, theta):\n",
    "    theta_rad = theta*pi/180\n",
    "    x = r*cos(theta_rad)\n",
    "    y = r*sin(theta_rad)\n",
    "    return x, y\n",
    "r_val= float(input('Please enter the value of r: '))\n",
    "theta_val_deg= float(input('Please enter the value of theta in deg: '))\n",
    "print('The value of x and y coordiantes are respectively: ', polar2cart(r_val, theta_val_deg))"
   ]
  },
  {
   "cell_type": "markdown",
   "id": "8036b8a5",
   "metadata": {},
   "source": [
    "### Lecture No. 4: Intro to Matplotlib"
   ]
  },
  {
   "cell_type": "code",
   "execution_count": null,
   "id": "ea054019",
   "metadata": {},
   "outputs": [],
   "source": [
    "import matplotlib.pyplot as plt\n",
    "%matplotlib inline\n",
    "import numpy as np"
   ]
  },
  {
   "cell_type": "code",
   "execution_count": null,
   "id": "980365ce",
   "metadata": {},
   "outputs": [],
   "source": [
    "x = np.arange(0, 20, 0.1)\n",
    "y1 = np.cos(x)\n",
    "y2 = np.exp(-x/10)*np.cos(x)\n",
    "plt.plot(x, y1, label = 'Oscillation-1', linewidth = 3)\n",
    "plt.plot(x, y2, label = 'Oscillation-2', linewidth = 3, color = 'r', linestyle = '--')\n",
    "plt.xlabel('x-values', size = 20)\n",
    "plt.ylabel('y-values', size = 20)\n",
    "plt.legend()\n",
    "plt.show()"
   ]
  },
  {
   "cell_type": "code",
   "execution_count": null,
   "id": "4835e698",
   "metadata": {},
   "outputs": [],
   "source": [
    "x = np.arange(0, 20, 0.1)\n",
    "y = (10**x)*(np.cos(x)**2)\n",
    "plt.plot(x,y)\n",
    "plt.xscale('log')\n",
    "plt.yscale('log')\n",
    "plt.show"
   ]
  },
  {
   "cell_type": "raw",
   "id": "390ce0f0",
   "metadata": {},
   "source": [
    "a = np.loadtxt('Any2DFileRequired')\n",
    "x = a[:0]\n",
    "y = a[:1]\n",
    "print('')"
   ]
  },
  {
   "cell_type": "code",
   "execution_count": null,
   "id": "44be9171",
   "metadata": {},
   "outputs": [],
   "source": [
    "theta = np.linspace(0, 2*np.pi)\n",
    "x = np.cos(theta - np.pi/2)\n",
    "y = np.sin(theta - np.pi/2)\n",
    "z = theta\n",
    "\n",
    "fig, ax = plt.subplots(subplot_kw=dict(projection='3d'))\n",
    "ax.stem(x, y, z)\n",
    "\n",
    "plt.show()"
   ]
  },
  {
   "cell_type": "markdown",
   "id": "33af398d",
   "metadata": {},
   "source": [
    "### SymPy Tutorials:::"
   ]
  },
  {
   "cell_type": "code",
   "execution_count": null,
   "id": "d2dd7d20",
   "metadata": {},
   "outputs": [],
   "source": [
    "from sympy import *"
   ]
  },
  {
   "cell_type": "code",
   "execution_count": null,
   "id": "c7268905",
   "metadata": {},
   "outputs": [],
   "source": [
    "x, y = symbols('x y')\n",
    "expr = x**2+2*y+3"
   ]
  },
  {
   "cell_type": "code",
   "execution_count": null,
   "id": "387e00db",
   "metadata": {},
   "outputs": [],
   "source": [
    "expr"
   ]
  },
  {
   "cell_type": "code",
   "execution_count": null,
   "id": "bcb7c60e",
   "metadata": {},
   "outputs": [],
   "source": [
    "exprr= exp(x)\n",
    "exprr"
   ]
  },
  {
   "cell_type": "code",
   "execution_count": null,
   "id": "dd2578e5",
   "metadata": {},
   "outputs": [],
   "source": [
    "\"Add(pow(2), exp(3))\""
   ]
  },
  {
   "cell_type": "code",
   "execution_count": null,
   "id": "56256448",
   "metadata": {},
   "outputs": [],
   "source": [
    "srepr(x - y)\n",
    "\"Add(Symbol('x'), Mul(Integer(-1), Symbol('y')))\""
   ]
  },
  {
   "cell_type": "code",
   "execution_count": null,
   "id": "fba19995",
   "metadata": {},
   "outputs": [],
   "source": [
    "x, y, z = symbols('x y z')\n",
    "expr = x**2 + x*y\n",
    "srepr(expr)"
   ]
  },
  {
   "cell_type": "code",
   "execution_count": null,
   "id": "5641171d",
   "metadata": {},
   "outputs": [],
   "source": [
    "express = x**2+2*x+33\n",
    "print('The value of expression is: ', express.subs(x, 1))\n",
    "express"
   ]
  },
  {
   "cell_type": "code",
   "execution_count": null,
   "id": "848e11f6",
   "metadata": {},
   "outputs": [],
   "source": [
    "expr = sin(2*x)+cos(2*x)\n",
    "expand_trig(expr)"
   ]
  },
  {
   "cell_type": "code",
   "execution_count": null,
   "id": "343bbf98",
   "metadata": {},
   "outputs": [],
   "source": [
    "x, m, n = symbols('x m n')\n",
    "exp = x**2+2*m+3*m*n\n",
    "exp.subs([(x, 2),(m, -1), (n, 1)])"
   ]
  },
  {
   "cell_type": "raw",
   "id": "13de9e4d",
   "metadata": {},
   "source": [
    "Calculus:"
   ]
  },
  {
   "cell_type": "code",
   "execution_count": null,
   "id": "2fa961ef",
   "metadata": {},
   "outputs": [],
   "source": [
    "from sympy import *\n",
    "import math as mth"
   ]
  },
  {
   "cell_type": "code",
   "execution_count": null,
   "id": "debf2739",
   "metadata": {},
   "outputs": [],
   "source": [
    "x, y, z = symbols('x y z')\n",
    "# sm.init_printing(use_unicode=True)"
   ]
  },
  {
   "cell_type": "code",
   "execution_count": null,
   "id": "38bf80f7",
   "metadata": {},
   "outputs": [],
   "source": [
    "exp = cos(x)\n",
    "der = Derivative(exp, x)\n",
    "der.doit()"
   ]
  },
  {
   "cell_type": "code",
   "execution_count": null,
   "id": "895adde7",
   "metadata": {},
   "outputs": [],
   "source": [
    "exp1 = 2*x**3+3*y**2+z**4\n",
    "der1 = Derivative(exp1, x, x, y, y, y, z, z, z) #Derivative(exp1, x, 2, y, 3, z, 3)\n",
    "der1"
   ]
  },
  {
   "cell_type": "code",
   "execution_count": null,
   "id": "adb417fa",
   "metadata": {},
   "outputs": [],
   "source": [
    "exp2 = x**2*y**3**2+2*x**2*z**2*y**4\n",
    "der2 = Derivative(exp2, x, 2, y, z, 2)\n",
    "der2"
   ]
  },
  {
   "cell_type": "code",
   "execution_count": null,
   "id": "d3d81bd6",
   "metadata": {},
   "outputs": [],
   "source": [
    "der2.doit()"
   ]
  },
  {
   "cell_type": "raw",
   "id": "9eba717b",
   "metadata": {},
   "source": [
    "Integrals:"
   ]
  },
  {
   "cell_type": "code",
   "execution_count": null,
   "id": "baa22d53",
   "metadata": {},
   "outputs": [],
   "source": [
    "integrate(cos(x),x)"
   ]
  },
  {
   "cell_type": "code",
   "execution_count": null,
   "id": "850e76ce",
   "metadata": {},
   "outputs": [],
   "source": [
    "integrate(sin(x)-cos(x), (x, 0, 2))"
   ]
  },
  {
   "cell_type": "code",
   "execution_count": null,
   "id": "38d65fbf",
   "metadata": {},
   "outputs": [],
   "source": [
    "from sympy import *\n",
    "x = symbols('x')\n",
    "integrate(exp(-x), (x, 0, oo)) #oo is actually infinity"
   ]
  },
  {
   "cell_type": "code",
   "execution_count": null,
   "id": "8dced873",
   "metadata": {},
   "outputs": [],
   "source": [
    "x, y = symbols('x y')\n",
    "exp3 = -x**2-y**2\n",
    "integrate(exp(exp3), (x, -oo, oo), (y, -oo, oo))"
   ]
  },
  {
   "cell_type": "code",
   "execution_count": null,
   "id": "f1910706",
   "metadata": {},
   "outputs": [],
   "source": [
    "exp4 = integrate(x**x+y**2, x, y)\n",
    "exp4"
   ]
  },
  {
   "cell_type": "code",
   "execution_count": null,
   "id": "33e21502",
   "metadata": {},
   "outputs": [],
   "source": [
    "exp5 = Integral(log(x**2)+3*x, x)\n",
    "exp5"
   ]
  },
  {
   "cell_type": "code",
   "execution_count": null,
   "id": "2cd037f4",
   "metadata": {},
   "outputs": [],
   "source": [
    "exp6 = Integral((x**4 + x**2*exp(x) - x**2 - 2*x*exp(x) - 2*x -exp(x))*exp(x)/((x - 1)**2*(x + 1)**2*(exp(x) + 1)), x)\n",
    "exp6"
   ]
  },
  {
   "cell_type": "code",
   "execution_count": null,
   "id": "764e9dab",
   "metadata": {},
   "outputs": [],
   "source": [
    "exp6.doit()"
   ]
  },
  {
   "cell_type": "code",
   "execution_count": null,
   "id": "dd19441a",
   "metadata": {},
   "outputs": [],
   "source": [
    "exp7 = Integral(x**y*exp(-x), (x, 0, oo))\n",
    "exp7"
   ]
  },
  {
   "cell_type": "code",
   "execution_count": null,
   "id": "cd0d8afd",
   "metadata": {},
   "outputs": [],
   "source": [
    "exp7.doit()"
   ]
  },
  {
   "cell_type": "raw",
   "id": "e1843ba6",
   "metadata": {},
   "source": [
    "Limits:"
   ]
  },
  {
   "cell_type": "code",
   "execution_count": null,
   "id": "b90b390e",
   "metadata": {},
   "outputs": [],
   "source": [
    "limit(sin(x)/x, x, 0)"
   ]
  },
  {
   "cell_type": "code",
   "execution_count": null,
   "id": "f183cc2b",
   "metadata": {},
   "outputs": [],
   "source": [
    "expr = Limit(sin(x)*cos(x), x, 0)  #using small small letter limit, we can evaluate it here.\n",
    "expr"
   ]
  },
  {
   "cell_type": "code",
   "execution_count": null,
   "id": "57d836a3",
   "metadata": {},
   "outputs": [],
   "source": [
    "expr.doit()"
   ]
  },
  {
   "cell_type": "code",
   "execution_count": null,
   "id": "ef97388b",
   "metadata": {},
   "outputs": [],
   "source": [
    "#use f(x).series(x, x0, n). x0 and n can be omitted, in which case the defaults x0=0 and n=6 will be used.\n",
    "exp8 = exp(sin(x))\n",
    "exp8.series(x)"
   ]
  },
  {
   "cell_type": "code",
   "execution_count": null,
   "id": "4387b423",
   "metadata": {},
   "outputs": [],
   "source": [
    "x = symbols('x')\n",
    "exp9 = exp(sin(x))\n",
    "exp9.series(x, 0, 4)"
   ]
  },
  {
   "cell_type": "code",
   "execution_count": null,
   "id": "0cf86249",
   "metadata": {},
   "outputs": [],
   "source": []
  },
  {
   "cell_type": "code",
   "execution_count": null,
   "id": "8f293ed9",
   "metadata": {},
   "outputs": [],
   "source": [
    "'''The  term O(x**4) at the end represents the Landau order term at x=0\n",
    "(not to be confused with big O notation used in computer science, which generally represents the\n",
    "Landau order term at x where x->oo ). \n",
    "It means that all x terms with power greater than or equal to x**4 are omitted.\n",
    "Order terms can be created and manipulated outside of 'series'. \n",
    "They automatically absorb higher order terms.\n",
    "'''\n",
    "exp9.series(x, 0, 4).removeO() "
   ]
  },
  {
   "cell_type": "code",
   "execution_count": null,
   "id": "56af36c7",
   "metadata": {},
   "outputs": [],
   "source": [
    "exp(x-6).series(x, x0=6)"
   ]
  },
  {
   "cell_type": "raw",
   "id": "f1001fba",
   "metadata": {},
   "source": [
    "Finite differences:"
   ]
  },
  {
   "cell_type": "code",
   "execution_count": null,
   "id": "aead341d",
   "metadata": {},
   "outputs": [],
   "source": [
    "f, g = symbols('f g', cls= Function)\n",
    "differentiate_finite(f(x)*g(x))"
   ]
  },
  {
   "cell_type": "code",
   "execution_count": null,
   "id": "6422c05c",
   "metadata": {},
   "outputs": [],
   "source": [
    "f = Function('f')\n",
    "dfdx=f(x).diff(x)\n",
    "dfdx.as_finite_difference()"
   ]
  },
  {
   "cell_type": "code",
   "execution_count": null,
   "id": "1c9e449d",
   "metadata": {},
   "outputs": [],
   "source": [
    "f = Function('f')\n",
    "d2fdx2 = f(x).diff(x, 2)\n",
    "h = symbols('h')\n",
    "d2fdx2.as_finite_difference([-3*h, h, 2*h])"
   ]
  },
  {
   "cell_type": "code",
   "execution_count": null,
   "id": "6913e850",
   "metadata": {},
   "outputs": [],
   "source": [
    "g= Function('g')\n",
    "d2gdx2 = g(x).diff(x, 2)\n",
    "h = symbols('h')\n",
    "d2gdx2.as_finite_difference(h)"
   ]
  },
  {
   "cell_type": "code",
   "execution_count": null,
   "id": "8808e430",
   "metadata": {},
   "outputs": [],
   "source": [
    "x_list = [-3, 1, 2]\n",
    "y_list = symbols('a b c')\n",
    "apply_finite_diff(1, x_list, y_list, 0)"
   ]
  },
  {
   "cell_type": "markdown",
   "id": "9e31c6d2",
   "metadata": {},
   "source": [
    "### Lecture No. 5: Round Off and Truncation errors"
   ]
  },
  {
   "cell_type": "code",
   "execution_count": null,
   "id": "75a3f08c",
   "metadata": {},
   "outputs": [],
   "source": [
    "import numpy as np\n",
    "x = 1\n",
    "y = 1.0+1e-15*np.sqrt(2)\n",
    "dt = 1e-15*np.sqrt(2)\n",
    "dn = y-x\n",
    "error = np.absolute(((dt-dn)/dn)*100)\n",
    "print('Error is (in %): ',error)"
   ]
  },
  {
   "cell_type": "code",
   "execution_count": null,
   "id": "5bbc07e4",
   "metadata": {},
   "outputs": [],
   "source": [
    "x, n = symbols('x n')\n",
    "exp10 = Eq(exp(x), Sum(x**n/factorial(n), (n, 0, oo)))"
   ]
  },
  {
   "cell_type": "code",
   "execution_count": null,
   "id": "e48aa356",
   "metadata": {},
   "outputs": [],
   "source": [
    "print('Maclaurin Series of exponential function is given below:')\n",
    "exp10"
   ]
  },
  {
   "cell_type": "code",
   "execution_count": null,
   "id": "82e49729",
   "metadata": {},
   "outputs": [],
   "source": [
    "expr_exp = exp(x)\n",
    "expr_exp.series(x, 0, 3)"
   ]
  },
  {
   "cell_type": "code",
   "execution_count": null,
   "id": "e89c4c8d",
   "metadata": {},
   "outputs": [],
   "source": [
    "x, dx = symbols('x dx')\n",
    "f = Function('f')\n",
    "der_1 = Derivative(f, x)\n",
    "der_2 = Limit((f(x+dx)-f(x))/dx, dx, 0)\n",
    "expr_sd = Eq(der_1, der_2)"
   ]
  },
  {
   "cell_type": "code",
   "execution_count": null,
   "id": "86b47003",
   "metadata": {},
   "outputs": [],
   "source": [
    "x, i = symbols('x i')\n",
    "eq = Eq(x, 1)\n",
    "eq"
   ]
  },
  {
   "cell_type": "raw",
   "id": "d1b26709",
   "metadata": {},
   "source": [
    "Other section ws theory which is written in the registers"
   ]
  },
  {
   "cell_type": "markdown",
   "id": "cd4434ae",
   "metadata": {},
   "source": [
    "### Lecture No. 6: Root finding and brakecting methods"
   ]
  },
  {
   "cell_type": "raw",
   "id": "06976956",
   "metadata": {},
   "source": [
    "Bracketing Methods: False Position and Bisection Methods"
   ]
  },
  {
   "cell_type": "code",
   "execution_count": null,
   "id": "3168a58e",
   "metadata": {},
   "outputs": [],
   "source": [
    "import matplotlib.pyplot as plt\n",
    "import numpy as np\n",
    "import sympy as sm\n",
    "%matplotlib inline"
   ]
  },
  {
   "cell_type": "code",
   "execution_count": null,
   "id": "675da6d7",
   "metadata": {},
   "outputs": [],
   "source": [
    "x =  symbols('x')\n",
    "eq = sm.Eq(3*x**3+x, 3)\n",
    "eq"
   ]
  },
  {
   "cell_type": "code",
   "execution_count": null,
   "id": "f437f770",
   "metadata": {},
   "outputs": [],
   "source": [
    "def f(x):\n",
    "    return 3*x**3+x-3"
   ]
  },
  {
   "cell_type": "code",
   "execution_count": null,
   "id": "1f074c47",
   "metadata": {},
   "outputs": [],
   "source": [
    "x = np.arange(0.5,1.51, 0.1)\n",
    "plt.plot(x, f(x))\n",
    "plt.grid()\n",
    "plt.show()"
   ]
  },
  {
   "cell_type": "code",
   "execution_count": null,
   "id": "186fab36",
   "metadata": {},
   "outputs": [],
   "source": [
    "def bisect(xl, xu, es, imax):\n",
    "    xr=xu\n",
    "    x = []; e = []; it = []\n",
    "    for i in range(imax):\n",
    "        xrold = xr\n",
    "        xr = 0.5*(xl+xu)\n",
    "        if (xr!=0.0):\n",
    "            ea = abs(((xr-xrold))/xr)*100\n",
    "        it.append(i); x.append(xr); e.append(ea)\n",
    "        test = f(xl)*f(xr)\n",
    "        if (test<0):\n",
    "            xu = xr\n",
    "        elif (test>0.0):\n",
    "            xl = xr\n",
    "        else:\n",
    "            ea = 0.0\n",
    "        if (ea<es):\n",
    "            break\n",
    "            \n",
    "    return it, x, e"
   ]
  },
  {
   "cell_type": "code",
   "execution_count": null,
   "id": "0ef46ff4",
   "metadata": {},
   "outputs": [],
   "source": [
    "def FalsePos(xl, xu, es, imax):\n",
    "    xr=xu\n",
    "    x = []; e = []; it = []\n",
    "    for i in range(imax):\n",
    "        xrold = xr\n",
    "        xr = xu - ((f(xu)*(xl-xu))/(f(xl)-f(xu)))\n",
    "        if (xr!=0.0):\n",
    "            ea = abs(((xr-xrold))/xr)*100\n",
    "        it.append(i); x.append(xr); e.append(ea)\n",
    "        test = f(xl)*f(xr)\n",
    "        if (test<0):\n",
    "            xu = xr\n",
    "        elif (test>0.0):\n",
    "            xl = xr\n",
    "        else:\n",
    "            ea = 0.0\n",
    "        if (ea<es):\n",
    "            break\n",
    "            \n",
    "    return it, x, e"
   ]
  },
  {
   "cell_type": "code",
   "execution_count": null,
   "id": "ec46457f",
   "metadata": {},
   "outputs": [],
   "source": [
    "i1, x1, e1 = bisect(0.5, 1.5, 1e-12, 100);\n",
    "i2, x2, e2 = FalsePos(0.5, 1.5, 1e-12, 100);\n",
    "plt.plot(i1, e1, label = 'Bisection Method', linewidth = 2)\n",
    "plt.plot(i2, e2, label = 'False Position Method', linewidth = 2, color = 'r', linestyle = '--' )\n",
    "plt.legend()\n",
    "plt.xlabel('Iteration number', size = 16)\n",
    "plt.ylabel('Error', size = 16)\n",
    "plt.yscale('log')\n",
    "plt.show()"
   ]
  },
  {
   "cell_type": "markdown",
   "id": "1d3f53d9",
   "metadata": {},
   "source": [
    "### Lecture No. 07: Open Methods for root findings"
   ]
  },
  {
   "cell_type": "code",
   "execution_count": 1,
   "id": "7c5d007a",
   "metadata": {},
   "outputs": [],
   "source": [
    "import matplotlib.pyplot as plt\n",
    "import numpy as np\n",
    "import sympy as sm\n",
    "%matplotlib inline\n",
    "%config InlineBackend.figure_format = 'retina'"
   ]
  },
  {
   "cell_type": "code",
   "execution_count": 9,
   "id": "88059a34",
   "metadata": {},
   "outputs": [
    {
     "data": {
      "text/latex": [
       "$\\displaystyle 3 x^{3} + x = 3$"
      ],
      "text/plain": [
       "Eq(3*x**3 + x, 3)"
      ]
     },
     "execution_count": 9,
     "metadata": {},
     "output_type": "execute_result"
    }
   ],
   "source": [
    "x = sm.symbols('x')\n",
    "eq = sm.Eq(3*x**3+x, 3)\n",
    "eq"
   ]
  },
  {
   "cell_type": "code",
   "execution_count": 10,
   "id": "28cf6bd5",
   "metadata": {},
   "outputs": [
    {
     "data": {
      "text/plain": [
       "'def g(x):\\n    return f(x)+x\\ndef dg(f):\\n    return 9*x**2+2\\n'"
      ]
     },
     "execution_count": 10,
     "metadata": {},
     "output_type": "execute_result"
    }
   ],
   "source": [
    "def f(x):\n",
    "    return 3*x**3+x-3\n",
    "'''def g(x):\n",
    "    return f(x)+x\n",
    "def dg(f):\n",
    "    return 9*x**2+2\n",
    "''''    "
   ]
  },
  {
   "cell_type": "code",
   "execution_count": 11,
   "id": "efd6a748",
   "metadata": {},
   "outputs": [
    {
     "data": {
      "image/png": "[encoded data removed]",
      "text/plain": [
       "<Figure size 432x288 with 1 Axes>"
      ]
     },
     "metadata": {
      "image/png": {
       "height": 248,
       "width": 370
      },
      "needs_background": "light"
     },
     "output_type": "display_data"
    }
   ],
   "source": [
    "#Before solving: lets get an idea, what this function looks like. \n",
    "x = np.arange(0.5, 1.55, 0.1)\n",
    "plt.plot(x, f(x))\n",
    "plt.grid()\n",
    "plt.show()"
   ]
  },
  {
   "cell_type": "code",
   "execution_count": 12,
   "id": "a37f048a",
   "metadata": {},
   "outputs": [],
   "source": [
    "def g(x):\n",
    "    return ((3.0-x)/3)**(1.0/3)\n",
    "def dg(f): #similarty derivative will also change\n",
    "    return (-1.0/9.0)*(3.0/(3.0-x))**(2/3)"
   ]
  },
  {
   "cell_type": "code",
   "execution_count": 13,
   "id": "4cc37bd1",
   "metadata": {},
   "outputs": [
    {
     "data": {
      "image/png": "[encoded data removed]",
      "text/plain": [
       "<Figure size 432x288 with 1 Axes>"
      ]
     },
     "metadata": {
      "image/png": {
       "height": 248,
       "width": 386
      },
      "needs_background": "light"
     },
     "output_type": "display_data"
    }
   ],
   "source": [
    "#Now checking the derivative dg again\n",
    "plt.plot(x, dg(x))\n",
    "plt.show() #Hence dg is less than 1."
   ]
  },
  {
   "cell_type": "code",
   "execution_count": 14,
   "id": "4379baf9",
   "metadata": {},
   "outputs": [],
   "source": [
    "#Solving through fixed point method\n",
    "def fixedpt(x0, es, imax):\n",
    "    xr=x0\n",
    "    x = []; e = []; it = [] \n",
    "    for i in range(imax):\n",
    "        xrold = xr\n",
    "        xr = g(xrold)\n",
    "        if (xr!=0):\n",
    "            ea = abs(((xr-xrold)/xr)*100)\n",
    "        it.append(i); e.append(ea); x.append(xr)\n",
    "        if (ea<es):\n",
    "            break\n",
    "    return it, x, e"
   ]
  },
  {
   "cell_type": "code",
   "execution_count": null,
   "id": "83221469",
   "metadata": {},
   "outputs": [],
   "source": []
  },
  {
   "cell_type": "code",
   "execution_count": 18,
   "id": "5a732f01",
   "metadata": {},
   "outputs": [],
   "source": [
    "#i3, x3, e3 = fixedpt(2, 1e-10, 50) #As this solution diverges. So, check out what dg(x) tells us. As it should be less than 1.\n",
    "i3, x3, e3 = fixedpt(2, 1e-10, 100) #As this solution diverges. So, check out what dg(x) tells us. As it should be less than 1.\n"
   ]
  },
  {
   "cell_type": "code",
   "execution_count": 19,
   "id": "a4bff45b",
   "metadata": {},
   "outputs": [],
   "source": [
    "#plt.plot(x, dg(x))\n",
    "#plt.show()  #As from given figure, dg is 10 around 0.9, so means greater than 1. That's why sol. diverges. Now change the initial g(x) function."
   ]
  },
  {
   "cell_type": "code",
   "execution_count": 20,
   "id": "c3eef5ae",
   "metadata": {},
   "outputs": [
    {
     "data": {
      "image/png": "[encoded data removed]",
      "text/plain": [
       "<Figure size 432x288 with 1 Axes>"
      ]
     },
     "metadata": {
      "image/png": {
       "height": 248,
       "width": 384
      },
      "needs_background": "light"
     },
     "output_type": "display_data"
    }
   ],
   "source": [
    "plt.plot(i3, e3, label = 'Fixed Point Iteration')\n",
    "plt.yscale('log')\n",
    "plt.show()\n",
    "#Now worked!"
   ]
  },
  {
   "cell_type": "code",
   "execution_count": 22,
   "id": "06112012",
   "metadata": {},
   "outputs": [
    {
     "data": {
      "image/png": "[encoded data removed]",
      "text/plain": [
       "<Figure size 432x288 with 1 Axes>"
      ]
     },
     "metadata": {
      "image/png": {
       "height": 248,
       "width": 378
      },
      "needs_background": "light"
     },
     "output_type": "display_data"
    }
   ],
   "source": [
    "plt.plot(i3, x3, label = \"Fixed Point Iteration\")\n",
    "plt.yscale('linear')\n",
    "plt.show() #Can be seen how solution is convergiing to almost 0.89 value"
   ]
  },
  {
   "cell_type": "raw",
   "id": "496f91e7",
   "metadata": {},
   "source": [
    "Now checking the validity of all the mathods done so far"
   ]
  },
  {
   "cell_type": "code",
   "execution_count": 24,
   "id": "fa0159e9",
   "metadata": {},
   "outputs": [],
   "source": [
    "import matplotlib.pyplot as plt\n",
    "import numpy as np\n",
    "from scipy.optimize import brentq\n",
    "%matplotlib inline\n",
    "%config InlineBackend.figure_format = 'retina'"
   ]
  },
  {
   "cell_type": "code",
   "execution_count": 25,
   "id": "140d4a2b",
   "metadata": {},
   "outputs": [],
   "source": [
    "def f(x):\n",
    "    return 3*x**3+x-3\n",
    "def df(x):\n",
    "    return 9*x**2+1\n",
    "def g(x):\n",
    "    return ((3.0-x)/3)**(1.0/3)\n",
    "def dg(f):\n",
    "    return (-1.0/9.0)*(3.0/(3.0-x))**(2/3)"
   ]
  },
  {
   "cell_type": "code",
   "execution_count": 27,
   "id": "bf3c852f",
   "metadata": {},
   "outputs": [],
   "source": [
    "def bisect(xl, xu, es, imax):\n",
    "    xr=xu\n",
    "    x = []; e = []; it = []\n",
    "    for i in range(imax):\n",
    "        xrold = xr\n",
    "        xr = 0.5*(xl+xu)\n",
    "        if (xr!=0.0):\n",
    "            ea = abs(((xr-xrold))/xr)*100\n",
    "        it.append(i); x.append(xr); e.append(ea)\n",
    "        test = f(xl)*f(xr)\n",
    "        if (test<0):\n",
    "            xu = xr\n",
    "        elif (test>0.0):\n",
    "            xl = xr\n",
    "        else:\n",
    "            ea = 0.0\n",
    "        if (ea<es):\n",
    "            break\n",
    "    return it, x, e\n",
    "\n",
    "\n",
    "def FalsePos(xl, xu, es, imax):\n",
    "    xr=xu\n",
    "    x = []; e = []; it = []\n",
    "    for i in range(imax):\n",
    "        xrold = xr\n",
    "        xr = xu - ((f(xu)*(xl-xu))/(f(xl)-f(xu)))\n",
    "        if (xr!=0.0):\n",
    "            ea = abs(((xr-xrold))/xr)*100\n",
    "        it.append(i); x.append(xr); e.append(ea)\n",
    "        test = f(xl)*f(xr)\n",
    "        if (test<0):\n",
    "            xu = xr\n",
    "        elif (test>0.0):\n",
    "            xl = xr\n",
    "        else:\n",
    "            ea = 0.0\n",
    "        if (ea<es):\n",
    "            break\n",
    "    return it, x, e\n",
    "\n",
    "\n",
    "def fixedpt(x0, es, imax):\n",
    "    xr=x0\n",
    "    x = []; e = []; it = [] \n",
    "    for i in range(imax):\n",
    "        xrold = xr\n",
    "        xr = g(xrold)\n",
    "        if (xr!=0):\n",
    "            ea = abs(((xr-xrold)/xr)*100)\n",
    "        it.append(i); e.append(ea); x.append(xr)\n",
    "        if (ea<es):\n",
    "            break\n",
    "    return it, x, e\n",
    "\n",
    "def NR(x0, es, imax):\n",
    "    xr = x0\n",
    "    it = []; x = []; e = []\n",
    "    for i in range(imax):\n",
    "        xrold = xr\n",
    "        xr = xrold - f(xrold)/df(xrold)\n",
    "        if (xr!= 0):\n",
    "            ea = abs(((xr-xrold)/xr)*100)\n",
    "        it.append(i); x.append(xr), e.append(ea)\n",
    "        if (ea<es):\n",
    "            break\n",
    "    return it, e, x\n",
    "\n",
    "def secant(x0, x1, es, imax):\n",
    "    x = []; e = []; it = []\n",
    "    for i in range(imax):\n",
    "        if f(x1)-f(x0) == 0:\n",
    "            return x1\n",
    "        xr = x1 - (f(x1)*(x1-x0)*1.0/(f(x1)-f(x0))) ; x0=x1 ; x1 = xr\n",
    "        if xr!=0:\n",
    "            ea = abs((xr-x0)/xr)*100\n",
    "        it.append(i) ; x.append(xr) ; e.append(ea)\n",
    "        if ea<es:\n",
    "            break\n",
    "    return it, e, x    "
   ]
  },
  {
   "cell_type": "code",
   "execution_count": 32,
   "id": "a7958a6a",
   "metadata": {},
   "outputs": [],
   "source": [
    "i1, x1, e1 = bisect(0, 1, 1e-12, 100)\n",
    "i2, x2, e2 = FalsePos(0, 1, 1e-12, 100)\n",
    "i3, x3, e3 = fixedpt(0, 1e-12, 100)\n",
    "i4, x4, e4 = NR(0, 1e-12, 100)\n",
    "i5, x5, e5 = secant(0, 1, 1e-12, 100)"
   ]
  },
  {
   "cell_type": "code",
   "execution_count": 33,
   "id": "d8998cac",
   "metadata": {},
   "outputs": [
    {
     "data": {
      "image/png": "[encoded data removed]",
      "text/plain": [
       "<Figure size 432x288 with 1 Axes>"
      ]
     },
     "metadata": {
      "image/png": {
       "height": 261,
       "width": 397
      },
      "needs_background": "light"
     },
     "output_type": "display_data"
    }
   ],
   "source": [
    "plt.plot(i1, e1, label = \"Bisection Method\")\n",
    "plt.plot(i2,e2, label = \"False Position Method\")\n",
    "plt.plot(i3, e3, label = 'Fixed Point Method')\n",
    "plt.plot(i4, e4, label = \"Newton-Raphson Method\")\n",
    "plt.plot(i5, e5, label = 'Secant Method')\n",
    "\n",
    "plt.legend()\n",
    "plt.xlabel('Iteration Number') ; plt.ylabel('Error')\n",
    "plt.yscale('log')\n",
    "plt.show()"
   ]
  },
  {
   "cell_type": "code",
   "execution_count": null,
   "id": "bf3e24d2",
   "metadata": {},
   "outputs": [],
   "source": []
  }
 ],
 "metadata": {
  "kernelspec": {
   "display_name": "Python 3 (ipykernel)",
   "language": "python",
   "name": "python3"
  },
  "language_info": {
   "codemirror_mode": {
    "name": "ipython",
    "version": 3
   },
   "file_extension": ".py",
   "mimetype": "text/x-python",
   "name": "python",
   "nbconvert_exporter": "python",
   "pygments_lexer": "ipython3",
   "version": "3.10.5"
  }
 },
 "nbformat": 4,
 "nbformat_minor": 5
}
